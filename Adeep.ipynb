{
  "nbformat": 4,
  "nbformat_minor": 0,
  "metadata": {
    "colab": {
      "provenance": [],
      "gpuType": "T4"
    },
    "kernelspec": {
      "name": "python3",
      "display_name": "Python 3"
    },
    "language_info": {
      "name": "python"
    },
    "accelerator": "GPU"
  },
  "cells": [
    {
      "cell_type": "code",
      "source": [
        "from google.colab import drive\n",
        "drive.mount('/content/drive/')\n"
      ],
      "metadata": {
        "colab": {
          "base_uri": "https://localhost:8080/"
        },
        "id": "rb4gcUNnFYhw",
        "outputId": "51a592bf-c0c7-4e2c-96c2-7196d4742a1d"
      },
      "execution_count": null,
      "outputs": [
        {
          "output_type": "stream",
          "name": "stdout",
          "text": [
            "Drive already mounted at /content/drive/; to attempt to forcibly remount, call drive.mount(\"/content/drive/\", force_remount=True).\n"
          ]
        }
      ]
    },
    {
      "cell_type": "code",
      "source": [
        "import zipfile\n",
        "\n",
        "\n",
        "zip_ref=zipfile.ZipFile(\"/content/drive/MyDrive/Ecoomerce data/Oneonly.zip\",'r')\n",
        "zip_ref.extractall('/content/dataset')\n",
        "\n",
        "zip_ref.close()"
      ],
      "metadata": {
        "id": "AcKILQ7pFYkL"
      },
      "execution_count": null,
      "outputs": []
    },
    {
      "cell_type": "code",
      "source": [],
      "metadata": {
        "id": "jtwgkHe4FYmh"
      },
      "execution_count": null,
      "outputs": []
    },
    {
      "cell_type": "code",
      "source": [],
      "metadata": {
        "id": "gcFB47PMFYqG"
      },
      "execution_count": null,
      "outputs": []
    },
    {
      "cell_type": "code",
      "execution_count": null,
      "metadata": {
        "id": "g6Md24ee4nfY",
        "colab": {
          "base_uri": "https://localhost:8080/"
        },
        "outputId": "f2ea0ea1-9afb-44c9-e872-986e247046ab"
      },
      "outputs": [
        {
          "output_type": "stream",
          "name": "stderr",
          "text": [
            "[nltk_data] Downloading package stopwords to /root/nltk_data...\n",
            "[nltk_data]   Unzipping corpora/stopwords.zip.\n",
            "[nltk_data] Downloading package wordnet to /root/nltk_data...\n"
          ]
        },
        {
          "output_type": "execute_result",
          "data": {
            "text/plain": [
              "True"
            ]
          },
          "metadata": {},
          "execution_count": 8
        }
      ],
      "source": [
        "import pandas as pd\n",
        "pd.set_option(\"display.max_colwidth\", 200)\n",
        "\n",
        "import nltk\n",
        "nltk.download('stopwords')\n",
        "nltk.download('wordnet')\n"
      ]
    },
    {
      "cell_type": "code",
      "source": [
        "data = pd.read_csv('/content/dataset/Oneonly.csv')\n",
        "data.head()"
      ],
      "metadata": {
        "colab": {
          "base_uri": "https://localhost:8080/",
          "height": 379
        },
        "id": "C9I1fRF37OJ5",
        "outputId": "058d5a59-16ca-43ba-add5-499a345b55a6"
      },
      "execution_count": null,
      "outputs": [
        {
          "output_type": "execute_result",
          "data": {
            "text/plain": [
              "                     id Category                       name  reviews.rating  \\\n",
              "0  AVqkIhwDv8e3D1O-lebb   Tablet   Fire HD 8 Tablet, 16 GB              5.0   \n",
              "1  AVqkIhwDv8e3D1O-lebb   Tablet   Fire HD 8 Tablet, 16 GB              5.0   \n",
              "2  AVqkIhwDv8e3D1O-lebb   Tablet   Fire HD 8 Tablet, 16 GB              5.0   \n",
              "3  AVqkIhwDv8e3D1O-lebb   Tablet   Fire HD 8 Tablet, 16 GB              4.0   \n",
              "4  AVqkIhwDv8e3D1O-lebb   Tablet   Fire HD 8 Tablet, 16 GB              5.0   \n",
              "\n",
              "                                                                                                                                                                                              reviews.text  \\\n",
              "0                                                          This product so far has not disappointed. My children love to use it and I like the ability to monitor control what content they see with ease.   \n",
              "1                                                                                                                              great for beginner or experienced person. Bought as a gift and she loves it   \n",
              "2                                                                      Inexpensive tablet for him to use and learn on, step up from the NABI. He was thrilled with it, learn how to Skype on it already...   \n",
              "3  I've had my Fire HD 8 two weeks now and I love it. This tablet is a great value.We are Prime Members and that is where this tablet SHINES. I love being able to easily access all of the Prime conte...   \n",
              "4  I bought this for my grand daughter when she comes over to visit. I set it up with her as the user, entered her age and name and now Amazon makes sure that she only accesses sites and content that...   \n",
              "\n",
              "   sentiment  \n",
              "0        0.0  \n",
              "1        0.0  \n",
              "2        0.0  \n",
              "3        0.0  \n",
              "4        0.0  "
            ],
            "text/html": [
              "\n",
              "  <div id=\"df-655c7f20-6767-46c1-8eea-7ab92087d650\" class=\"colab-df-container\">\n",
              "    <div>\n",
              "<style scoped>\n",
              "    .dataframe tbody tr th:only-of-type {\n",
              "        vertical-align: middle;\n",
              "    }\n",
              "\n",
              "    .dataframe tbody tr th {\n",
              "        vertical-align: top;\n",
              "    }\n",
              "\n",
              "    .dataframe thead th {\n",
              "        text-align: right;\n",
              "    }\n",
              "</style>\n",
              "<table border=\"1\" class=\"dataframe\">\n",
              "  <thead>\n",
              "    <tr style=\"text-align: right;\">\n",
              "      <th></th>\n",
              "      <th>id</th>\n",
              "      <th>Category</th>\n",
              "      <th>name</th>\n",
              "      <th>reviews.rating</th>\n",
              "      <th>reviews.text</th>\n",
              "      <th>sentiment</th>\n",
              "    </tr>\n",
              "  </thead>\n",
              "  <tbody>\n",
              "    <tr>\n",
              "      <th>0</th>\n",
              "      <td>AVqkIhwDv8e3D1O-lebb</td>\n",
              "      <td>Tablet</td>\n",
              "      <td>Fire HD 8 Tablet, 16 GB</td>\n",
              "      <td>5.0</td>\n",
              "      <td>This product so far has not disappointed. My children love to use it and I like the ability to monitor control what content they see with ease.</td>\n",
              "      <td>0.0</td>\n",
              "    </tr>\n",
              "    <tr>\n",
              "      <th>1</th>\n",
              "      <td>AVqkIhwDv8e3D1O-lebb</td>\n",
              "      <td>Tablet</td>\n",
              "      <td>Fire HD 8 Tablet, 16 GB</td>\n",
              "      <td>5.0</td>\n",
              "      <td>great for beginner or experienced person. Bought as a gift and she loves it</td>\n",
              "      <td>0.0</td>\n",
              "    </tr>\n",
              "    <tr>\n",
              "      <th>2</th>\n",
              "      <td>AVqkIhwDv8e3D1O-lebb</td>\n",
              "      <td>Tablet</td>\n",
              "      <td>Fire HD 8 Tablet, 16 GB</td>\n",
              "      <td>5.0</td>\n",
              "      <td>Inexpensive tablet for him to use and learn on, step up from the NABI. He was thrilled with it, learn how to Skype on it already...</td>\n",
              "      <td>0.0</td>\n",
              "    </tr>\n",
              "    <tr>\n",
              "      <th>3</th>\n",
              "      <td>AVqkIhwDv8e3D1O-lebb</td>\n",
              "      <td>Tablet</td>\n",
              "      <td>Fire HD 8 Tablet, 16 GB</td>\n",
              "      <td>4.0</td>\n",
              "      <td>I've had my Fire HD 8 two weeks now and I love it. This tablet is a great value.We are Prime Members and that is where this tablet SHINES. I love being able to easily access all of the Prime conte...</td>\n",
              "      <td>0.0</td>\n",
              "    </tr>\n",
              "    <tr>\n",
              "      <th>4</th>\n",
              "      <td>AVqkIhwDv8e3D1O-lebb</td>\n",
              "      <td>Tablet</td>\n",
              "      <td>Fire HD 8 Tablet, 16 GB</td>\n",
              "      <td>5.0</td>\n",
              "      <td>I bought this for my grand daughter when she comes over to visit. I set it up with her as the user, entered her age and name and now Amazon makes sure that she only accesses sites and content that...</td>\n",
              "      <td>0.0</td>\n",
              "    </tr>\n",
              "  </tbody>\n",
              "</table>\n",
              "</div>\n",
              "    <div class=\"colab-df-buttons\">\n",
              "\n",
              "  <div class=\"colab-df-container\">\n",
              "    <button class=\"colab-df-convert\" onclick=\"convertToInteractive('df-655c7f20-6767-46c1-8eea-7ab92087d650')\"\n",
              "            title=\"Convert this dataframe to an interactive table.\"\n",
              "            style=\"display:none;\">\n",
              "\n",
              "  <svg xmlns=\"http://www.w3.org/2000/svg\" height=\"24px\" viewBox=\"0 -960 960 960\">\n",
              "    <path d=\"M120-120v-720h720v720H120Zm60-500h600v-160H180v160Zm220 220h160v-160H400v160Zm0 220h160v-160H400v160ZM180-400h160v-160H180v160Zm440 0h160v-160H620v160ZM180-180h160v-160H180v160Zm440 0h160v-160H620v160Z\"/>\n",
              "  </svg>\n",
              "    </button>\n",
              "\n",
              "  <style>\n",
              "    .colab-df-container {\n",
              "      display:flex;\n",
              "      gap: 12px;\n",
              "    }\n",
              "\n",
              "    .colab-df-convert {\n",
              "      background-color: #E8F0FE;\n",
              "      border: none;\n",
              "      border-radius: 50%;\n",
              "      cursor: pointer;\n",
              "      display: none;\n",
              "      fill: #1967D2;\n",
              "      height: 32px;\n",
              "      padding: 0 0 0 0;\n",
              "      width: 32px;\n",
              "    }\n",
              "\n",
              "    .colab-df-convert:hover {\n",
              "      background-color: #E2EBFA;\n",
              "      box-shadow: 0px 1px 2px rgba(60, 64, 67, 0.3), 0px 1px 3px 1px rgba(60, 64, 67, 0.15);\n",
              "      fill: #174EA6;\n",
              "    }\n",
              "\n",
              "    .colab-df-buttons div {\n",
              "      margin-bottom: 4px;\n",
              "    }\n",
              "\n",
              "    [theme=dark] .colab-df-convert {\n",
              "      background-color: #3B4455;\n",
              "      fill: #D2E3FC;\n",
              "    }\n",
              "\n",
              "    [theme=dark] .colab-df-convert:hover {\n",
              "      background-color: #434B5C;\n",
              "      box-shadow: 0px 1px 3px 1px rgba(0, 0, 0, 0.15);\n",
              "      filter: drop-shadow(0px 1px 2px rgba(0, 0, 0, 0.3));\n",
              "      fill: #FFFFFF;\n",
              "    }\n",
              "  </style>\n",
              "\n",
              "    <script>\n",
              "      const buttonEl =\n",
              "        document.querySelector('#df-655c7f20-6767-46c1-8eea-7ab92087d650 button.colab-df-convert');\n",
              "      buttonEl.style.display =\n",
              "        google.colab.kernel.accessAllowed ? 'block' : 'none';\n",
              "\n",
              "      async function convertToInteractive(key) {\n",
              "        const element = document.querySelector('#df-655c7f20-6767-46c1-8eea-7ab92087d650');\n",
              "        const dataTable =\n",
              "          await google.colab.kernel.invokeFunction('convertToInteractive',\n",
              "                                                    [key], {});\n",
              "        if (!dataTable) return;\n",
              "\n",
              "        const docLinkHtml = 'Like what you see? Visit the ' +\n",
              "          '<a target=\"_blank\" href=https://colab.research.google.com/notebooks/data_table.ipynb>data table notebook</a>'\n",
              "          + ' to learn more about interactive tables.';\n",
              "        element.innerHTML = '';\n",
              "        dataTable['output_type'] = 'display_data';\n",
              "        await google.colab.output.renderOutput(dataTable, element);\n",
              "        const docLink = document.createElement('div');\n",
              "        docLink.innerHTML = docLinkHtml;\n",
              "        element.appendChild(docLink);\n",
              "      }\n",
              "    </script>\n",
              "  </div>\n",
              "\n",
              "\n",
              "<div id=\"df-2ed0165b-342f-4255-8dfc-f50237ff1b2f\">\n",
              "  <button class=\"colab-df-quickchart\" onclick=\"quickchart('df-2ed0165b-342f-4255-8dfc-f50237ff1b2f')\"\n",
              "            title=\"Suggest charts.\"\n",
              "            style=\"display:none;\">\n",
              "\n",
              "<svg xmlns=\"http://www.w3.org/2000/svg\" height=\"24px\"viewBox=\"0 0 24 24\"\n",
              "     width=\"24px\">\n",
              "    <g>\n",
              "        <path d=\"M19 3H5c-1.1 0-2 .9-2 2v14c0 1.1.9 2 2 2h14c1.1 0 2-.9 2-2V5c0-1.1-.9-2-2-2zM9 17H7v-7h2v7zm4 0h-2V7h2v10zm4 0h-2v-4h2v4z\"/>\n",
              "    </g>\n",
              "</svg>\n",
              "  </button>\n",
              "\n",
              "<style>\n",
              "  .colab-df-quickchart {\n",
              "    background-color: #E8F0FE;\n",
              "    border: none;\n",
              "    border-radius: 50%;\n",
              "    cursor: pointer;\n",
              "    display: none;\n",
              "    fill: #1967D2;\n",
              "    height: 32px;\n",
              "    padding: 0 0 0 0;\n",
              "    width: 32px;\n",
              "  }\n",
              "\n",
              "  .colab-df-quickchart:hover {\n",
              "    background-color: #E2EBFA;\n",
              "    box-shadow: 0px 1px 2px rgba(60, 64, 67, 0.3), 0px 1px 3px 1px rgba(60, 64, 67, 0.15);\n",
              "    fill: #174EA6;\n",
              "  }\n",
              "\n",
              "  [theme=dark] .colab-df-quickchart {\n",
              "    background-color: #3B4455;\n",
              "    fill: #D2E3FC;\n",
              "  }\n",
              "\n",
              "  [theme=dark] .colab-df-quickchart:hover {\n",
              "    background-color: #434B5C;\n",
              "    box-shadow: 0px 1px 3px 1px rgba(0, 0, 0, 0.15);\n",
              "    filter: drop-shadow(0px 1px 2px rgba(0, 0, 0, 0.3));\n",
              "    fill: #FFFFFF;\n",
              "  }\n",
              "</style>\n",
              "\n",
              "  <script>\n",
              "    async function quickchart(key) {\n",
              "      const charts = await google.colab.kernel.invokeFunction(\n",
              "          'suggestCharts', [key], {});\n",
              "    }\n",
              "    (() => {\n",
              "      let quickchartButtonEl =\n",
              "        document.querySelector('#df-2ed0165b-342f-4255-8dfc-f50237ff1b2f button');\n",
              "      quickchartButtonEl.style.display =\n",
              "        google.colab.kernel.accessAllowed ? 'block' : 'none';\n",
              "    })();\n",
              "  </script>\n",
              "</div>\n",
              "    </div>\n",
              "  </div>\n"
            ]
          },
          "metadata": {},
          "execution_count": 9
        }
      ]
    },
    {
      "cell_type": "code",
      "source": [
        "column_to_remove = 'id'\n",
        "data = data.drop(columns=[column_to_remove])"
      ],
      "metadata": {
        "id": "y_jywUet7X97"
      },
      "execution_count": null,
      "outputs": []
    },
    {
      "cell_type": "code",
      "source": [
        "data"
      ],
      "metadata": {
        "colab": {
          "base_uri": "https://localhost:8080/",
          "height": 545
        },
        "id": "Uw7RNt0OxFhE",
        "outputId": "441a0b2b-d757-4ab5-d6f1-6100c46eaaf5"
      },
      "execution_count": null,
      "outputs": [
        {
          "output_type": "execute_result",
          "data": {
            "text/plain": [
              "      Category                       name  reviews.rating  \\\n",
              "0       Tablet   Fire HD 8 Tablet, 16 GB              5.0   \n",
              "1       Tablet   Fire HD 8 Tablet, 16 GB              5.0   \n",
              "2       Tablet   Fire HD 8 Tablet, 16 GB              5.0   \n",
              "3       Tablet   Fire HD 8 Tablet, 16 GB              4.0   \n",
              "4       Tablet   Fire HD 8 Tablet, 16 GB              5.0   \n",
              "...        ...                        ...             ...   \n",
              "27895      NaN                        NaN             NaN   \n",
              "27896      NaN                        NaN             NaN   \n",
              "27897      NaN                        NaN             NaN   \n",
              "27898      NaN                        NaN             NaN   \n",
              "27899      NaN                         \\n             NaN   \n",
              "\n",
              "                                                                                                                                                                                                  reviews.text  \\\n",
              "0                                                              This product so far has not disappointed. My children love to use it and I like the ability to monitor control what content they see with ease.   \n",
              "1                                                                                                                                  great for beginner or experienced person. Bought as a gift and she loves it   \n",
              "2                                                                          Inexpensive tablet for him to use and learn on, step up from the NABI. He was thrilled with it, learn how to Skype on it already...   \n",
              "3      I've had my Fire HD 8 two weeks now and I love it. This tablet is a great value.We are Prime Members and that is where this tablet SHINES. I love being able to easily access all of the Prime conte...   \n",
              "4      I bought this for my grand daughter when she comes over to visit. I set it up with her as the user, entered her age and name and now Amazon makes sure that she only accesses sites and content that...   \n",
              "...                                                                                                                                                                                                        ...   \n",
              "27895                                                                                                                                                                                                      NaN   \n",
              "27896                                                                                                                                                                                                      NaN   \n",
              "27897                                                                                                                                                                                                      NaN   \n",
              "27898                                                                                                                                                                                                      NaN   \n",
              "27899                                                                                                                                                                                                      NaN   \n",
              "\n",
              "       sentiment  \n",
              "0            0.0  \n",
              "1            0.0  \n",
              "2            0.0  \n",
              "3            0.0  \n",
              "4            0.0  \n",
              "...          ...  \n",
              "27895        NaN  \n",
              "27896        NaN  \n",
              "27897        NaN  \n",
              "27898        NaN  \n",
              "27899        NaN  \n",
              "\n",
              "[27900 rows x 5 columns]"
            ],
            "text/html": [
              "\n",
              "  <div id=\"df-b4beae2c-b5f1-480e-bde4-56e5a49df4b2\" class=\"colab-df-container\">\n",
              "    <div>\n",
              "<style scoped>\n",
              "    .dataframe tbody tr th:only-of-type {\n",
              "        vertical-align: middle;\n",
              "    }\n",
              "\n",
              "    .dataframe tbody tr th {\n",
              "        vertical-align: top;\n",
              "    }\n",
              "\n",
              "    .dataframe thead th {\n",
              "        text-align: right;\n",
              "    }\n",
              "</style>\n",
              "<table border=\"1\" class=\"dataframe\">\n",
              "  <thead>\n",
              "    <tr style=\"text-align: right;\">\n",
              "      <th></th>\n",
              "      <th>Category</th>\n",
              "      <th>name</th>\n",
              "      <th>reviews.rating</th>\n",
              "      <th>reviews.text</th>\n",
              "      <th>sentiment</th>\n",
              "    </tr>\n",
              "  </thead>\n",
              "  <tbody>\n",
              "    <tr>\n",
              "      <th>0</th>\n",
              "      <td>Tablet</td>\n",
              "      <td>Fire HD 8 Tablet, 16 GB</td>\n",
              "      <td>5.0</td>\n",
              "      <td>This product so far has not disappointed. My children love to use it and I like the ability to monitor control what content they see with ease.</td>\n",
              "      <td>0.0</td>\n",
              "    </tr>\n",
              "    <tr>\n",
              "      <th>1</th>\n",
              "      <td>Tablet</td>\n",
              "      <td>Fire HD 8 Tablet, 16 GB</td>\n",
              "      <td>5.0</td>\n",
              "      <td>great for beginner or experienced person. Bought as a gift and she loves it</td>\n",
              "      <td>0.0</td>\n",
              "    </tr>\n",
              "    <tr>\n",
              "      <th>2</th>\n",
              "      <td>Tablet</td>\n",
              "      <td>Fire HD 8 Tablet, 16 GB</td>\n",
              "      <td>5.0</td>\n",
              "      <td>Inexpensive tablet for him to use and learn on, step up from the NABI. He was thrilled with it, learn how to Skype on it already...</td>\n",
              "      <td>0.0</td>\n",
              "    </tr>\n",
              "    <tr>\n",
              "      <th>3</th>\n",
              "      <td>Tablet</td>\n",
              "      <td>Fire HD 8 Tablet, 16 GB</td>\n",
              "      <td>4.0</td>\n",
              "      <td>I've had my Fire HD 8 two weeks now and I love it. This tablet is a great value.We are Prime Members and that is where this tablet SHINES. I love being able to easily access all of the Prime conte...</td>\n",
              "      <td>0.0</td>\n",
              "    </tr>\n",
              "    <tr>\n",
              "      <th>4</th>\n",
              "      <td>Tablet</td>\n",
              "      <td>Fire HD 8 Tablet, 16 GB</td>\n",
              "      <td>5.0</td>\n",
              "      <td>I bought this for my grand daughter when she comes over to visit. I set it up with her as the user, entered her age and name and now Amazon makes sure that she only accesses sites and content that...</td>\n",
              "      <td>0.0</td>\n",
              "    </tr>\n",
              "    <tr>\n",
              "      <th>...</th>\n",
              "      <td>...</td>\n",
              "      <td>...</td>\n",
              "      <td>...</td>\n",
              "      <td>...</td>\n",
              "      <td>...</td>\n",
              "    </tr>\n",
              "    <tr>\n",
              "      <th>27895</th>\n",
              "      <td>NaN</td>\n",
              "      <td>NaN</td>\n",
              "      <td>NaN</td>\n",
              "      <td>NaN</td>\n",
              "      <td>NaN</td>\n",
              "    </tr>\n",
              "    <tr>\n",
              "      <th>27896</th>\n",
              "      <td>NaN</td>\n",
              "      <td>NaN</td>\n",
              "      <td>NaN</td>\n",
              "      <td>NaN</td>\n",
              "      <td>NaN</td>\n",
              "    </tr>\n",
              "    <tr>\n",
              "      <th>27897</th>\n",
              "      <td>NaN</td>\n",
              "      <td>NaN</td>\n",
              "      <td>NaN</td>\n",
              "      <td>NaN</td>\n",
              "      <td>NaN</td>\n",
              "    </tr>\n",
              "    <tr>\n",
              "      <th>27898</th>\n",
              "      <td>NaN</td>\n",
              "      <td>NaN</td>\n",
              "      <td>NaN</td>\n",
              "      <td>NaN</td>\n",
              "      <td>NaN</td>\n",
              "    </tr>\n",
              "    <tr>\n",
              "      <th>27899</th>\n",
              "      <td>NaN</td>\n",
              "      <td>\\n</td>\n",
              "      <td>NaN</td>\n",
              "      <td>NaN</td>\n",
              "      <td>NaN</td>\n",
              "    </tr>\n",
              "  </tbody>\n",
              "</table>\n",
              "<p>27900 rows × 5 columns</p>\n",
              "</div>\n",
              "    <div class=\"colab-df-buttons\">\n",
              "\n",
              "  <div class=\"colab-df-container\">\n",
              "    <button class=\"colab-df-convert\" onclick=\"convertToInteractive('df-b4beae2c-b5f1-480e-bde4-56e5a49df4b2')\"\n",
              "            title=\"Convert this dataframe to an interactive table.\"\n",
              "            style=\"display:none;\">\n",
              "\n",
              "  <svg xmlns=\"http://www.w3.org/2000/svg\" height=\"24px\" viewBox=\"0 -960 960 960\">\n",
              "    <path d=\"M120-120v-720h720v720H120Zm60-500h600v-160H180v160Zm220 220h160v-160H400v160Zm0 220h160v-160H400v160ZM180-400h160v-160H180v160Zm440 0h160v-160H620v160ZM180-180h160v-160H180v160Zm440 0h160v-160H620v160Z\"/>\n",
              "  </svg>\n",
              "    </button>\n",
              "\n",
              "  <style>\n",
              "    .colab-df-container {\n",
              "      display:flex;\n",
              "      gap: 12px;\n",
              "    }\n",
              "\n",
              "    .colab-df-convert {\n",
              "      background-color: #E8F0FE;\n",
              "      border: none;\n",
              "      border-radius: 50%;\n",
              "      cursor: pointer;\n",
              "      display: none;\n",
              "      fill: #1967D2;\n",
              "      height: 32px;\n",
              "      padding: 0 0 0 0;\n",
              "      width: 32px;\n",
              "    }\n",
              "\n",
              "    .colab-df-convert:hover {\n",
              "      background-color: #E2EBFA;\n",
              "      box-shadow: 0px 1px 2px rgba(60, 64, 67, 0.3), 0px 1px 3px 1px rgba(60, 64, 67, 0.15);\n",
              "      fill: #174EA6;\n",
              "    }\n",
              "\n",
              "    .colab-df-buttons div {\n",
              "      margin-bottom: 4px;\n",
              "    }\n",
              "\n",
              "    [theme=dark] .colab-df-convert {\n",
              "      background-color: #3B4455;\n",
              "      fill: #D2E3FC;\n",
              "    }\n",
              "\n",
              "    [theme=dark] .colab-df-convert:hover {\n",
              "      background-color: #434B5C;\n",
              "      box-shadow: 0px 1px 3px 1px rgba(0, 0, 0, 0.15);\n",
              "      filter: drop-shadow(0px 1px 2px rgba(0, 0, 0, 0.3));\n",
              "      fill: #FFFFFF;\n",
              "    }\n",
              "  </style>\n",
              "\n",
              "    <script>\n",
              "      const buttonEl =\n",
              "        document.querySelector('#df-b4beae2c-b5f1-480e-bde4-56e5a49df4b2 button.colab-df-convert');\n",
              "      buttonEl.style.display =\n",
              "        google.colab.kernel.accessAllowed ? 'block' : 'none';\n",
              "\n",
              "      async function convertToInteractive(key) {\n",
              "        const element = document.querySelector('#df-b4beae2c-b5f1-480e-bde4-56e5a49df4b2');\n",
              "        const dataTable =\n",
              "          await google.colab.kernel.invokeFunction('convertToInteractive',\n",
              "                                                    [key], {});\n",
              "        if (!dataTable) return;\n",
              "\n",
              "        const docLinkHtml = 'Like what you see? Visit the ' +\n",
              "          '<a target=\"_blank\" href=https://colab.research.google.com/notebooks/data_table.ipynb>data table notebook</a>'\n",
              "          + ' to learn more about interactive tables.';\n",
              "        element.innerHTML = '';\n",
              "        dataTable['output_type'] = 'display_data';\n",
              "        await google.colab.output.renderOutput(dataTable, element);\n",
              "        const docLink = document.createElement('div');\n",
              "        docLink.innerHTML = docLinkHtml;\n",
              "        element.appendChild(docLink);\n",
              "      }\n",
              "    </script>\n",
              "  </div>\n",
              "\n",
              "\n",
              "<div id=\"df-66499b21-9817-46b7-bd83-804fb963a46c\">\n",
              "  <button class=\"colab-df-quickchart\" onclick=\"quickchart('df-66499b21-9817-46b7-bd83-804fb963a46c')\"\n",
              "            title=\"Suggest charts.\"\n",
              "            style=\"display:none;\">\n",
              "\n",
              "<svg xmlns=\"http://www.w3.org/2000/svg\" height=\"24px\"viewBox=\"0 0 24 24\"\n",
              "     width=\"24px\">\n",
              "    <g>\n",
              "        <path d=\"M19 3H5c-1.1 0-2 .9-2 2v14c0 1.1.9 2 2 2h14c1.1 0 2-.9 2-2V5c0-1.1-.9-2-2-2zM9 17H7v-7h2v7zm4 0h-2V7h2v10zm4 0h-2v-4h2v4z\"/>\n",
              "    </g>\n",
              "</svg>\n",
              "  </button>\n",
              "\n",
              "<style>\n",
              "  .colab-df-quickchart {\n",
              "    background-color: #E8F0FE;\n",
              "    border: none;\n",
              "    border-radius: 50%;\n",
              "    cursor: pointer;\n",
              "    display: none;\n",
              "    fill: #1967D2;\n",
              "    height: 32px;\n",
              "    padding: 0 0 0 0;\n",
              "    width: 32px;\n",
              "  }\n",
              "\n",
              "  .colab-df-quickchart:hover {\n",
              "    background-color: #E2EBFA;\n",
              "    box-shadow: 0px 1px 2px rgba(60, 64, 67, 0.3), 0px 1px 3px 1px rgba(60, 64, 67, 0.15);\n",
              "    fill: #174EA6;\n",
              "  }\n",
              "\n",
              "  [theme=dark] .colab-df-quickchart {\n",
              "    background-color: #3B4455;\n",
              "    fill: #D2E3FC;\n",
              "  }\n",
              "\n",
              "  [theme=dark] .colab-df-quickchart:hover {\n",
              "    background-color: #434B5C;\n",
              "    box-shadow: 0px 1px 3px 1px rgba(0, 0, 0, 0.15);\n",
              "    filter: drop-shadow(0px 1px 2px rgba(0, 0, 0, 0.3));\n",
              "    fill: #FFFFFF;\n",
              "  }\n",
              "</style>\n",
              "\n",
              "  <script>\n",
              "    async function quickchart(key) {\n",
              "      const charts = await google.colab.kernel.invokeFunction(\n",
              "          'suggestCharts', [key], {});\n",
              "    }\n",
              "    (() => {\n",
              "      let quickchartButtonEl =\n",
              "        document.querySelector('#df-66499b21-9817-46b7-bd83-804fb963a46c button');\n",
              "      quickchartButtonEl.style.display =\n",
              "        google.colab.kernel.accessAllowed ? 'block' : 'none';\n",
              "    })();\n",
              "  </script>\n",
              "</div>\n",
              "    </div>\n",
              "  </div>\n"
            ]
          },
          "metadata": {},
          "execution_count": 11
        }
      ]
    },
    {
      "cell_type": "code",
      "source": [
        "# Add the 'id' column with sequential values\n",
        "data.insert(0, 'id', range(1, len(data) + 1))\n",
        "\n",
        "# Display the dataframe with the new 'id' column\n",
        "print(data)"
      ],
      "metadata": {
        "id": "ngOYQb_M8AaN",
        "colab": {
          "base_uri": "https://localhost:8080/"
        },
        "outputId": "b1afd950-e19a-4492-d3b7-32ffcba6d4e8"
      },
      "execution_count": null,
      "outputs": [
        {
          "output_type": "stream",
          "name": "stdout",
          "text": [
            "          id Category                       name  reviews.rating  \\\n",
            "0          1   Tablet   Fire HD 8 Tablet, 16 GB              5.0   \n",
            "1          2   Tablet   Fire HD 8 Tablet, 16 GB              5.0   \n",
            "2          3   Tablet   Fire HD 8 Tablet, 16 GB              5.0   \n",
            "3          4   Tablet   Fire HD 8 Tablet, 16 GB              4.0   \n",
            "4          5   Tablet   Fire HD 8 Tablet, 16 GB              5.0   \n",
            "...      ...      ...                        ...             ...   \n",
            "27895  27896      NaN                        NaN             NaN   \n",
            "27896  27897      NaN                        NaN             NaN   \n",
            "27897  27898      NaN                        NaN             NaN   \n",
            "27898  27899      NaN                        NaN             NaN   \n",
            "27899  27900      NaN                         \\n             NaN   \n",
            "\n",
            "                                                                                                                                                                                                  reviews.text  \\\n",
            "0                                                              This product so far has not disappointed. My children love to use it and I like the ability to monitor control what content they see with ease.   \n",
            "1                                                                                                                                  great for beginner or experienced person. Bought as a gift and she loves it   \n",
            "2                                                                          Inexpensive tablet for him to use and learn on, step up from the NABI. He was thrilled with it, learn how to Skype on it already...   \n",
            "3      I've had my Fire HD 8 two weeks now and I love it. This tablet is a great value.We are Prime Members and that is where this tablet SHINES. I love being able to easily access all of the Prime conte...   \n",
            "4      I bought this for my grand daughter when she comes over to visit. I set it up with her as the user, entered her age and name and now Amazon makes sure that she only accesses sites and content that...   \n",
            "...                                                                                                                                                                                                        ...   \n",
            "27895                                                                                                                                                                                                      NaN   \n",
            "27896                                                                                                                                                                                                      NaN   \n",
            "27897                                                                                                                                                                                                      NaN   \n",
            "27898                                                                                                                                                                                                      NaN   \n",
            "27899                                                                                                                                                                                                      NaN   \n",
            "\n",
            "       sentiment  \n",
            "0            0.0  \n",
            "1            0.0  \n",
            "2            0.0  \n",
            "3            0.0  \n",
            "4            0.0  \n",
            "...          ...  \n",
            "27895        NaN  \n",
            "27896        NaN  \n",
            "27897        NaN  \n",
            "27898        NaN  \n",
            "27899        NaN  \n",
            "\n",
            "[27900 rows x 6 columns]\n"
          ]
        }
      ]
    },
    {
      "cell_type": "code",
      "source": [
        "# Remove rows with null or NaN values\n",
        "data = data.dropna()\n"
      ],
      "metadata": {
        "id": "uwX2ICIGxHal"
      },
      "execution_count": null,
      "outputs": []
    },
    {
      "cell_type": "code",
      "source": [
        "data"
      ],
      "metadata": {
        "colab": {
          "base_uri": "https://localhost:8080/",
          "height": 718
        },
        "id": "qpJKXIx5xWvt",
        "outputId": "49ca4a38-f5a8-4cec-e089-c97e0cab23df"
      },
      "execution_count": null,
      "outputs": [
        {
          "output_type": "execute_result",
          "data": {
            "text/plain": [
              "          id  Category                       name  reviews.rating  \\\n",
              "0          1    Tablet   Fire HD 8 Tablet, 16 GB              5.0   \n",
              "1          2    Tablet   Fire HD 8 Tablet, 16 GB              5.0   \n",
              "2          3    Tablet   Fire HD 8 Tablet, 16 GB              5.0   \n",
              "3          4    Tablet   Fire HD 8 Tablet, 16 GB              4.0   \n",
              "4          5    Tablet   Fire HD 8 Tablet, 16 GB              5.0   \n",
              "...      ...       ...                        ...             ...   \n",
              "27887  27888  e-reader     Kindle Voyage E-reader             5.0   \n",
              "27888  27889  e-reader     Kindle Voyage E-reader             5.0   \n",
              "27889  27890  e-reader     Kindle Voyage E-reader             4.0   \n",
              "27890  27891  e-reader     Kindle Voyage E-reader             5.0   \n",
              "27891  27892  e-reader     Kindle Voyage E-reader             4.0   \n",
              "\n",
              "                                                                                                                                                                                                  reviews.text  \\\n",
              "0                                                              This product so far has not disappointed. My children love to use it and I like the ability to monitor control what content they see with ease.   \n",
              "1                                                                                                                                  great for beginner or experienced person. Bought as a gift and she loves it   \n",
              "2                                                                          Inexpensive tablet for him to use and learn on, step up from the NABI. He was thrilled with it, learn how to Skype on it already...   \n",
              "3      I've had my Fire HD 8 two weeks now and I love it. This tablet is a great value.We are Prime Members and that is where this tablet SHINES. I love being able to easily access all of the Prime conte...   \n",
              "4      I bought this for my grand daughter when she comes over to visit. I set it up with her as the user, entered her age and name and now Amazon makes sure that she only accesses sites and content that...   \n",
              "...                                                                                                                                                                                                        ...   \n",
              "27887  Had the older model that didn't light up... Was always having to get to a lamp. Now I can read anywhere without any worries. The light adjusts as needed. I get lost in my book without any worries....   \n",
              "27888                                                                                                                              have owned 2 kindles this is far the best. no light required. simple to use   \n",
              "27889                                                                                                                                                      The technology just keeps getting better and better   \n",
              "27890                                     I purchased this for my wife as a Christmas present. She loves it, much better than the old Sony reader she had which had limited books and was much more expensive.   \n",
              "27891  First, the good news. The screen is a nice brightness and the words are crisp and clear. Best of all, it is so light and tiny (esp. in the Origami case) that it is super-easy to carry around in a ...   \n",
              "\n",
              "       sentiment  \n",
              "0            0.0  \n",
              "1            0.0  \n",
              "2            0.0  \n",
              "3            0.0  \n",
              "4            0.0  \n",
              "...          ...  \n",
              "27887        0.0  \n",
              "27888        0.0  \n",
              "27889        0.0  \n",
              "27890        0.0  \n",
              "27891        0.0  \n",
              "\n",
              "[27891 rows x 6 columns]"
            ],
            "text/html": [
              "\n",
              "  <div id=\"df-a633c422-e4bb-441f-8a57-f1710ebac2a1\" class=\"colab-df-container\">\n",
              "    <div>\n",
              "<style scoped>\n",
              "    .dataframe tbody tr th:only-of-type {\n",
              "        vertical-align: middle;\n",
              "    }\n",
              "\n",
              "    .dataframe tbody tr th {\n",
              "        vertical-align: top;\n",
              "    }\n",
              "\n",
              "    .dataframe thead th {\n",
              "        text-align: right;\n",
              "    }\n",
              "</style>\n",
              "<table border=\"1\" class=\"dataframe\">\n",
              "  <thead>\n",
              "    <tr style=\"text-align: right;\">\n",
              "      <th></th>\n",
              "      <th>id</th>\n",
              "      <th>Category</th>\n",
              "      <th>name</th>\n",
              "      <th>reviews.rating</th>\n",
              "      <th>reviews.text</th>\n",
              "      <th>sentiment</th>\n",
              "    </tr>\n",
              "  </thead>\n",
              "  <tbody>\n",
              "    <tr>\n",
              "      <th>0</th>\n",
              "      <td>1</td>\n",
              "      <td>Tablet</td>\n",
              "      <td>Fire HD 8 Tablet, 16 GB</td>\n",
              "      <td>5.0</td>\n",
              "      <td>This product so far has not disappointed. My children love to use it and I like the ability to monitor control what content they see with ease.</td>\n",
              "      <td>0.0</td>\n",
              "    </tr>\n",
              "    <tr>\n",
              "      <th>1</th>\n",
              "      <td>2</td>\n",
              "      <td>Tablet</td>\n",
              "      <td>Fire HD 8 Tablet, 16 GB</td>\n",
              "      <td>5.0</td>\n",
              "      <td>great for beginner or experienced person. Bought as a gift and she loves it</td>\n",
              "      <td>0.0</td>\n",
              "    </tr>\n",
              "    <tr>\n",
              "      <th>2</th>\n",
              "      <td>3</td>\n",
              "      <td>Tablet</td>\n",
              "      <td>Fire HD 8 Tablet, 16 GB</td>\n",
              "      <td>5.0</td>\n",
              "      <td>Inexpensive tablet for him to use and learn on, step up from the NABI. He was thrilled with it, learn how to Skype on it already...</td>\n",
              "      <td>0.0</td>\n",
              "    </tr>\n",
              "    <tr>\n",
              "      <th>3</th>\n",
              "      <td>4</td>\n",
              "      <td>Tablet</td>\n",
              "      <td>Fire HD 8 Tablet, 16 GB</td>\n",
              "      <td>4.0</td>\n",
              "      <td>I've had my Fire HD 8 two weeks now and I love it. This tablet is a great value.We are Prime Members and that is where this tablet SHINES. I love being able to easily access all of the Prime conte...</td>\n",
              "      <td>0.0</td>\n",
              "    </tr>\n",
              "    <tr>\n",
              "      <th>4</th>\n",
              "      <td>5</td>\n",
              "      <td>Tablet</td>\n",
              "      <td>Fire HD 8 Tablet, 16 GB</td>\n",
              "      <td>5.0</td>\n",
              "      <td>I bought this for my grand daughter when she comes over to visit. I set it up with her as the user, entered her age and name and now Amazon makes sure that she only accesses sites and content that...</td>\n",
              "      <td>0.0</td>\n",
              "    </tr>\n",
              "    <tr>\n",
              "      <th>...</th>\n",
              "      <td>...</td>\n",
              "      <td>...</td>\n",
              "      <td>...</td>\n",
              "      <td>...</td>\n",
              "      <td>...</td>\n",
              "      <td>...</td>\n",
              "    </tr>\n",
              "    <tr>\n",
              "      <th>27887</th>\n",
              "      <td>27888</td>\n",
              "      <td>e-reader</td>\n",
              "      <td>Kindle Voyage E-reader</td>\n",
              "      <td>5.0</td>\n",
              "      <td>Had the older model that didn't light up... Was always having to get to a lamp. Now I can read anywhere without any worries. The light adjusts as needed. I get lost in my book without any worries....</td>\n",
              "      <td>0.0</td>\n",
              "    </tr>\n",
              "    <tr>\n",
              "      <th>27888</th>\n",
              "      <td>27889</td>\n",
              "      <td>e-reader</td>\n",
              "      <td>Kindle Voyage E-reader</td>\n",
              "      <td>5.0</td>\n",
              "      <td>have owned 2 kindles this is far the best. no light required. simple to use</td>\n",
              "      <td>0.0</td>\n",
              "    </tr>\n",
              "    <tr>\n",
              "      <th>27889</th>\n",
              "      <td>27890</td>\n",
              "      <td>e-reader</td>\n",
              "      <td>Kindle Voyage E-reader</td>\n",
              "      <td>4.0</td>\n",
              "      <td>The technology just keeps getting better and better</td>\n",
              "      <td>0.0</td>\n",
              "    </tr>\n",
              "    <tr>\n",
              "      <th>27890</th>\n",
              "      <td>27891</td>\n",
              "      <td>e-reader</td>\n",
              "      <td>Kindle Voyage E-reader</td>\n",
              "      <td>5.0</td>\n",
              "      <td>I purchased this for my wife as a Christmas present. She loves it, much better than the old Sony reader she had which had limited books and was much more expensive.</td>\n",
              "      <td>0.0</td>\n",
              "    </tr>\n",
              "    <tr>\n",
              "      <th>27891</th>\n",
              "      <td>27892</td>\n",
              "      <td>e-reader</td>\n",
              "      <td>Kindle Voyage E-reader</td>\n",
              "      <td>4.0</td>\n",
              "      <td>First, the good news. The screen is a nice brightness and the words are crisp and clear. Best of all, it is so light and tiny (esp. in the Origami case) that it is super-easy to carry around in a ...</td>\n",
              "      <td>0.0</td>\n",
              "    </tr>\n",
              "  </tbody>\n",
              "</table>\n",
              "<p>27891 rows × 6 columns</p>\n",
              "</div>\n",
              "    <div class=\"colab-df-buttons\">\n",
              "\n",
              "  <div class=\"colab-df-container\">\n",
              "    <button class=\"colab-df-convert\" onclick=\"convertToInteractive('df-a633c422-e4bb-441f-8a57-f1710ebac2a1')\"\n",
              "            title=\"Convert this dataframe to an interactive table.\"\n",
              "            style=\"display:none;\">\n",
              "\n",
              "  <svg xmlns=\"http://www.w3.org/2000/svg\" height=\"24px\" viewBox=\"0 -960 960 960\">\n",
              "    <path d=\"M120-120v-720h720v720H120Zm60-500h600v-160H180v160Zm220 220h160v-160H400v160Zm0 220h160v-160H400v160ZM180-400h160v-160H180v160Zm440 0h160v-160H620v160ZM180-180h160v-160H180v160Zm440 0h160v-160H620v160Z\"/>\n",
              "  </svg>\n",
              "    </button>\n",
              "\n",
              "  <style>\n",
              "    .colab-df-container {\n",
              "      display:flex;\n",
              "      gap: 12px;\n",
              "    }\n",
              "\n",
              "    .colab-df-convert {\n",
              "      background-color: #E8F0FE;\n",
              "      border: none;\n",
              "      border-radius: 50%;\n",
              "      cursor: pointer;\n",
              "      display: none;\n",
              "      fill: #1967D2;\n",
              "      height: 32px;\n",
              "      padding: 0 0 0 0;\n",
              "      width: 32px;\n",
              "    }\n",
              "\n",
              "    .colab-df-convert:hover {\n",
              "      background-color: #E2EBFA;\n",
              "      box-shadow: 0px 1px 2px rgba(60, 64, 67, 0.3), 0px 1px 3px 1px rgba(60, 64, 67, 0.15);\n",
              "      fill: #174EA6;\n",
              "    }\n",
              "\n",
              "    .colab-df-buttons div {\n",
              "      margin-bottom: 4px;\n",
              "    }\n",
              "\n",
              "    [theme=dark] .colab-df-convert {\n",
              "      background-color: #3B4455;\n",
              "      fill: #D2E3FC;\n",
              "    }\n",
              "\n",
              "    [theme=dark] .colab-df-convert:hover {\n",
              "      background-color: #434B5C;\n",
              "      box-shadow: 0px 1px 3px 1px rgba(0, 0, 0, 0.15);\n",
              "      filter: drop-shadow(0px 1px 2px rgba(0, 0, 0, 0.3));\n",
              "      fill: #FFFFFF;\n",
              "    }\n",
              "  </style>\n",
              "\n",
              "    <script>\n",
              "      const buttonEl =\n",
              "        document.querySelector('#df-a633c422-e4bb-441f-8a57-f1710ebac2a1 button.colab-df-convert');\n",
              "      buttonEl.style.display =\n",
              "        google.colab.kernel.accessAllowed ? 'block' : 'none';\n",
              "\n",
              "      async function convertToInteractive(key) {\n",
              "        const element = document.querySelector('#df-a633c422-e4bb-441f-8a57-f1710ebac2a1');\n",
              "        const dataTable =\n",
              "          await google.colab.kernel.invokeFunction('convertToInteractive',\n",
              "                                                    [key], {});\n",
              "        if (!dataTable) return;\n",
              "\n",
              "        const docLinkHtml = 'Like what you see? Visit the ' +\n",
              "          '<a target=\"_blank\" href=https://colab.research.google.com/notebooks/data_table.ipynb>data table notebook</a>'\n",
              "          + ' to learn more about interactive tables.';\n",
              "        element.innerHTML = '';\n",
              "        dataTable['output_type'] = 'display_data';\n",
              "        await google.colab.output.renderOutput(dataTable, element);\n",
              "        const docLink = document.createElement('div');\n",
              "        docLink.innerHTML = docLinkHtml;\n",
              "        element.appendChild(docLink);\n",
              "      }\n",
              "    </script>\n",
              "  </div>\n",
              "\n",
              "\n",
              "<div id=\"df-5041ac32-5b6c-4fe8-914f-3fe6f59afa07\">\n",
              "  <button class=\"colab-df-quickchart\" onclick=\"quickchart('df-5041ac32-5b6c-4fe8-914f-3fe6f59afa07')\"\n",
              "            title=\"Suggest charts.\"\n",
              "            style=\"display:none;\">\n",
              "\n",
              "<svg xmlns=\"http://www.w3.org/2000/svg\" height=\"24px\"viewBox=\"0 0 24 24\"\n",
              "     width=\"24px\">\n",
              "    <g>\n",
              "        <path d=\"M19 3H5c-1.1 0-2 .9-2 2v14c0 1.1.9 2 2 2h14c1.1 0 2-.9 2-2V5c0-1.1-.9-2-2-2zM9 17H7v-7h2v7zm4 0h-2V7h2v10zm4 0h-2v-4h2v4z\"/>\n",
              "    </g>\n",
              "</svg>\n",
              "  </button>\n",
              "\n",
              "<style>\n",
              "  .colab-df-quickchart {\n",
              "    background-color: #E8F0FE;\n",
              "    border: none;\n",
              "    border-radius: 50%;\n",
              "    cursor: pointer;\n",
              "    display: none;\n",
              "    fill: #1967D2;\n",
              "    height: 32px;\n",
              "    padding: 0 0 0 0;\n",
              "    width: 32px;\n",
              "  }\n",
              "\n",
              "  .colab-df-quickchart:hover {\n",
              "    background-color: #E2EBFA;\n",
              "    box-shadow: 0px 1px 2px rgba(60, 64, 67, 0.3), 0px 1px 3px 1px rgba(60, 64, 67, 0.15);\n",
              "    fill: #174EA6;\n",
              "  }\n",
              "\n",
              "  [theme=dark] .colab-df-quickchart {\n",
              "    background-color: #3B4455;\n",
              "    fill: #D2E3FC;\n",
              "  }\n",
              "\n",
              "  [theme=dark] .colab-df-quickchart:hover {\n",
              "    background-color: #434B5C;\n",
              "    box-shadow: 0px 1px 3px 1px rgba(0, 0, 0, 0.15);\n",
              "    filter: drop-shadow(0px 1px 2px rgba(0, 0, 0, 0.3));\n",
              "    fill: #FFFFFF;\n",
              "  }\n",
              "</style>\n",
              "\n",
              "  <script>\n",
              "    async function quickchart(key) {\n",
              "      const charts = await google.colab.kernel.invokeFunction(\n",
              "          'suggestCharts', [key], {});\n",
              "    }\n",
              "    (() => {\n",
              "      let quickchartButtonEl =\n",
              "        document.querySelector('#df-5041ac32-5b6c-4fe8-914f-3fe6f59afa07 button');\n",
              "      quickchartButtonEl.style.display =\n",
              "        google.colab.kernel.accessAllowed ? 'block' : 'none';\n",
              "    })();\n",
              "  </script>\n",
              "</div>\n",
              "    </div>\n",
              "  </div>\n"
            ]
          },
          "metadata": {},
          "execution_count": 14
        }
      ]
    },
    {
      "cell_type": "code",
      "source": [
        "# 0 refers to positive sentiment, 1 is negative sentiment"
      ],
      "metadata": {
        "id": "PaFbtwq7xbPw"
      },
      "execution_count": null,
      "outputs": []
    },
    {
      "cell_type": "code",
      "source": [
        "data.info()"
      ],
      "metadata": {
        "colab": {
          "base_uri": "https://localhost:8080/"
        },
        "id": "PM2bxj7Gxxc8",
        "outputId": "d0eb9b94-c455-4a6c-c62d-dbe0e5ef644c"
      },
      "execution_count": null,
      "outputs": [
        {
          "output_type": "stream",
          "name": "stdout",
          "text": [
            "<class 'pandas.core.frame.DataFrame'>\n",
            "Int64Index: 27891 entries, 0 to 27891\n",
            "Data columns (total 6 columns):\n",
            " #   Column          Non-Null Count  Dtype  \n",
            "---  ------          --------------  -----  \n",
            " 0   id              27891 non-null  int64  \n",
            " 1   Category        27891 non-null  object \n",
            " 2   name            27891 non-null  object \n",
            " 3   reviews.rating  27891 non-null  float64\n",
            " 4   reviews.text    27891 non-null  object \n",
            " 5   sentiment       27891 non-null  float64\n",
            "dtypes: float64(2), int64(1), object(3)\n",
            "memory usage: 1.5+ MB\n"
          ]
        }
      ]
    },
    {
      "cell_type": "code",
      "source": [
        "# check for missing values\n",
        "data.isnull().sum()"
      ],
      "metadata": {
        "colab": {
          "base_uri": "https://localhost:8080/"
        },
        "id": "PHv1LF_XxzSs",
        "outputId": "dcba5de1-9294-4e91-8ba2-54c2bdcfae7c"
      },
      "execution_count": null,
      "outputs": [
        {
          "output_type": "execute_result",
          "data": {
            "text/plain": [
              "id                0\n",
              "Category          0\n",
              "name              0\n",
              "reviews.rating    0\n",
              "reviews.text      0\n",
              "sentiment         0\n",
              "dtype: int64"
            ]
          },
          "metadata": {},
          "execution_count": 17
        }
      ]
    },
    {
      "cell_type": "code",
      "source": [
        "# drop the id column\n",
        "# data.drop(['id'], axis=1, inplace=True)\n",
        "data.head()"
      ],
      "metadata": {
        "colab": {
          "base_uri": "https://localhost:8080/",
          "height": 327
        },
        "id": "CotlHeITx1R9",
        "outputId": "03ea7d96-4b79-4319-ef69-8d62e1161755"
      },
      "execution_count": null,
      "outputs": [
        {
          "output_type": "execute_result",
          "data": {
            "text/plain": [
              "   id Category                       name  reviews.rating  \\\n",
              "0   1   Tablet   Fire HD 8 Tablet, 16 GB              5.0   \n",
              "1   2   Tablet   Fire HD 8 Tablet, 16 GB              5.0   \n",
              "2   3   Tablet   Fire HD 8 Tablet, 16 GB              5.0   \n",
              "3   4   Tablet   Fire HD 8 Tablet, 16 GB              4.0   \n",
              "4   5   Tablet   Fire HD 8 Tablet, 16 GB              5.0   \n",
              "\n",
              "                                                                                                                                                                                              reviews.text  \\\n",
              "0                                                          This product so far has not disappointed. My children love to use it and I like the ability to monitor control what content they see with ease.   \n",
              "1                                                                                                                              great for beginner or experienced person. Bought as a gift and she loves it   \n",
              "2                                                                      Inexpensive tablet for him to use and learn on, step up from the NABI. He was thrilled with it, learn how to Skype on it already...   \n",
              "3  I've had my Fire HD 8 two weeks now and I love it. This tablet is a great value.We are Prime Members and that is where this tablet SHINES. I love being able to easily access all of the Prime conte...   \n",
              "4  I bought this for my grand daughter when she comes over to visit. I set it up with her as the user, entered her age and name and now Amazon makes sure that she only accesses sites and content that...   \n",
              "\n",
              "   sentiment  \n",
              "0        0.0  \n",
              "1        0.0  \n",
              "2        0.0  \n",
              "3        0.0  \n",
              "4        0.0  "
            ],
            "text/html": [
              "\n",
              "  <div id=\"df-c8b32405-9fff-48c5-a4e0-35dc33abd9d3\" class=\"colab-df-container\">\n",
              "    <div>\n",
              "<style scoped>\n",
              "    .dataframe tbody tr th:only-of-type {\n",
              "        vertical-align: middle;\n",
              "    }\n",
              "\n",
              "    .dataframe tbody tr th {\n",
              "        vertical-align: top;\n",
              "    }\n",
              "\n",
              "    .dataframe thead th {\n",
              "        text-align: right;\n",
              "    }\n",
              "</style>\n",
              "<table border=\"1\" class=\"dataframe\">\n",
              "  <thead>\n",
              "    <tr style=\"text-align: right;\">\n",
              "      <th></th>\n",
              "      <th>id</th>\n",
              "      <th>Category</th>\n",
              "      <th>name</th>\n",
              "      <th>reviews.rating</th>\n",
              "      <th>reviews.text</th>\n",
              "      <th>sentiment</th>\n",
              "    </tr>\n",
              "  </thead>\n",
              "  <tbody>\n",
              "    <tr>\n",
              "      <th>0</th>\n",
              "      <td>1</td>\n",
              "      <td>Tablet</td>\n",
              "      <td>Fire HD 8 Tablet, 16 GB</td>\n",
              "      <td>5.0</td>\n",
              "      <td>This product so far has not disappointed. My children love to use it and I like the ability to monitor control what content they see with ease.</td>\n",
              "      <td>0.0</td>\n",
              "    </tr>\n",
              "    <tr>\n",
              "      <th>1</th>\n",
              "      <td>2</td>\n",
              "      <td>Tablet</td>\n",
              "      <td>Fire HD 8 Tablet, 16 GB</td>\n",
              "      <td>5.0</td>\n",
              "      <td>great for beginner or experienced person. Bought as a gift and she loves it</td>\n",
              "      <td>0.0</td>\n",
              "    </tr>\n",
              "    <tr>\n",
              "      <th>2</th>\n",
              "      <td>3</td>\n",
              "      <td>Tablet</td>\n",
              "      <td>Fire HD 8 Tablet, 16 GB</td>\n",
              "      <td>5.0</td>\n",
              "      <td>Inexpensive tablet for him to use and learn on, step up from the NABI. He was thrilled with it, learn how to Skype on it already...</td>\n",
              "      <td>0.0</td>\n",
              "    </tr>\n",
              "    <tr>\n",
              "      <th>3</th>\n",
              "      <td>4</td>\n",
              "      <td>Tablet</td>\n",
              "      <td>Fire HD 8 Tablet, 16 GB</td>\n",
              "      <td>4.0</td>\n",
              "      <td>I've had my Fire HD 8 two weeks now and I love it. This tablet is a great value.We are Prime Members and that is where this tablet SHINES. I love being able to easily access all of the Prime conte...</td>\n",
              "      <td>0.0</td>\n",
              "    </tr>\n",
              "    <tr>\n",
              "      <th>4</th>\n",
              "      <td>5</td>\n",
              "      <td>Tablet</td>\n",
              "      <td>Fire HD 8 Tablet, 16 GB</td>\n",
              "      <td>5.0</td>\n",
              "      <td>I bought this for my grand daughter when she comes over to visit. I set it up with her as the user, entered her age and name and now Amazon makes sure that she only accesses sites and content that...</td>\n",
              "      <td>0.0</td>\n",
              "    </tr>\n",
              "  </tbody>\n",
              "</table>\n",
              "</div>\n",
              "    <div class=\"colab-df-buttons\">\n",
              "\n",
              "  <div class=\"colab-df-container\">\n",
              "    <button class=\"colab-df-convert\" onclick=\"convertToInteractive('df-c8b32405-9fff-48c5-a4e0-35dc33abd9d3')\"\n",
              "            title=\"Convert this dataframe to an interactive table.\"\n",
              "            style=\"display:none;\">\n",
              "\n",
              "  <svg xmlns=\"http://www.w3.org/2000/svg\" height=\"24px\" viewBox=\"0 -960 960 960\">\n",
              "    <path d=\"M120-120v-720h720v720H120Zm60-500h600v-160H180v160Zm220 220h160v-160H400v160Zm0 220h160v-160H400v160ZM180-400h160v-160H180v160Zm440 0h160v-160H620v160ZM180-180h160v-160H180v160Zm440 0h160v-160H620v160Z\"/>\n",
              "  </svg>\n",
              "    </button>\n",
              "\n",
              "  <style>\n",
              "    .colab-df-container {\n",
              "      display:flex;\n",
              "      gap: 12px;\n",
              "    }\n",
              "\n",
              "    .colab-df-convert {\n",
              "      background-color: #E8F0FE;\n",
              "      border: none;\n",
              "      border-radius: 50%;\n",
              "      cursor: pointer;\n",
              "      display: none;\n",
              "      fill: #1967D2;\n",
              "      height: 32px;\n",
              "      padding: 0 0 0 0;\n",
              "      width: 32px;\n",
              "    }\n",
              "\n",
              "    .colab-df-convert:hover {\n",
              "      background-color: #E2EBFA;\n",
              "      box-shadow: 0px 1px 2px rgba(60, 64, 67, 0.3), 0px 1px 3px 1px rgba(60, 64, 67, 0.15);\n",
              "      fill: #174EA6;\n",
              "    }\n",
              "\n",
              "    .colab-df-buttons div {\n",
              "      margin-bottom: 4px;\n",
              "    }\n",
              "\n",
              "    [theme=dark] .colab-df-convert {\n",
              "      background-color: #3B4455;\n",
              "      fill: #D2E3FC;\n",
              "    }\n",
              "\n",
              "    [theme=dark] .colab-df-convert:hover {\n",
              "      background-color: #434B5C;\n",
              "      box-shadow: 0px 1px 3px 1px rgba(0, 0, 0, 0.15);\n",
              "      filter: drop-shadow(0px 1px 2px rgba(0, 0, 0, 0.3));\n",
              "      fill: #FFFFFF;\n",
              "    }\n",
              "  </style>\n",
              "\n",
              "    <script>\n",
              "      const buttonEl =\n",
              "        document.querySelector('#df-c8b32405-9fff-48c5-a4e0-35dc33abd9d3 button.colab-df-convert');\n",
              "      buttonEl.style.display =\n",
              "        google.colab.kernel.accessAllowed ? 'block' : 'none';\n",
              "\n",
              "      async function convertToInteractive(key) {\n",
              "        const element = document.querySelector('#df-c8b32405-9fff-48c5-a4e0-35dc33abd9d3');\n",
              "        const dataTable =\n",
              "          await google.colab.kernel.invokeFunction('convertToInteractive',\n",
              "                                                    [key], {});\n",
              "        if (!dataTable) return;\n",
              "\n",
              "        const docLinkHtml = 'Like what you see? Visit the ' +\n",
              "          '<a target=\"_blank\" href=https://colab.research.google.com/notebooks/data_table.ipynb>data table notebook</a>'\n",
              "          + ' to learn more about interactive tables.';\n",
              "        element.innerHTML = '';\n",
              "        dataTable['output_type'] = 'display_data';\n",
              "        await google.colab.output.renderOutput(dataTable, element);\n",
              "        const docLink = document.createElement('div');\n",
              "        docLink.innerHTML = docLinkHtml;\n",
              "        element.appendChild(docLink);\n",
              "      }\n",
              "    </script>\n",
              "  </div>\n",
              "\n",
              "\n",
              "<div id=\"df-df0b1a61-bc7b-42f2-9723-630709fa0364\">\n",
              "  <button class=\"colab-df-quickchart\" onclick=\"quickchart('df-df0b1a61-bc7b-42f2-9723-630709fa0364')\"\n",
              "            title=\"Suggest charts.\"\n",
              "            style=\"display:none;\">\n",
              "\n",
              "<svg xmlns=\"http://www.w3.org/2000/svg\" height=\"24px\"viewBox=\"0 0 24 24\"\n",
              "     width=\"24px\">\n",
              "    <g>\n",
              "        <path d=\"M19 3H5c-1.1 0-2 .9-2 2v14c0 1.1.9 2 2 2h14c1.1 0 2-.9 2-2V5c0-1.1-.9-2-2-2zM9 17H7v-7h2v7zm4 0h-2V7h2v10zm4 0h-2v-4h2v4z\"/>\n",
              "    </g>\n",
              "</svg>\n",
              "  </button>\n",
              "\n",
              "<style>\n",
              "  .colab-df-quickchart {\n",
              "    background-color: #E8F0FE;\n",
              "    border: none;\n",
              "    border-radius: 50%;\n",
              "    cursor: pointer;\n",
              "    display: none;\n",
              "    fill: #1967D2;\n",
              "    height: 32px;\n",
              "    padding: 0 0 0 0;\n",
              "    width: 32px;\n",
              "  }\n",
              "\n",
              "  .colab-df-quickchart:hover {\n",
              "    background-color: #E2EBFA;\n",
              "    box-shadow: 0px 1px 2px rgba(60, 64, 67, 0.3), 0px 1px 3px 1px rgba(60, 64, 67, 0.15);\n",
              "    fill: #174EA6;\n",
              "  }\n",
              "\n",
              "  [theme=dark] .colab-df-quickchart {\n",
              "    background-color: #3B4455;\n",
              "    fill: #D2E3FC;\n",
              "  }\n",
              "\n",
              "  [theme=dark] .colab-df-quickchart:hover {\n",
              "    background-color: #434B5C;\n",
              "    box-shadow: 0px 1px 3px 1px rgba(0, 0, 0, 0.15);\n",
              "    filter: drop-shadow(0px 1px 2px rgba(0, 0, 0, 0.3));\n",
              "    fill: #FFFFFF;\n",
              "  }\n",
              "</style>\n",
              "\n",
              "  <script>\n",
              "    async function quickchart(key) {\n",
              "      const charts = await google.colab.kernel.invokeFunction(\n",
              "          'suggestCharts', [key], {});\n",
              "    }\n",
              "    (() => {\n",
              "      let quickchartButtonEl =\n",
              "        document.querySelector('#df-df0b1a61-bc7b-42f2-9723-630709fa0364 button');\n",
              "      quickchartButtonEl.style.display =\n",
              "        google.colab.kernel.accessAllowed ? 'block' : 'none';\n",
              "    })();\n",
              "  </script>\n",
              "</div>\n",
              "    </div>\n",
              "  </div>\n"
            ]
          },
          "metadata": {},
          "execution_count": 18
        }
      ]
    },
    {
      "cell_type": "code",
      "source": [
        "# Check for the class balance\n",
        "data['sentiment'].value_counts(normalize=True)"
      ],
      "metadata": {
        "colab": {
          "base_uri": "https://localhost:8080/"
        },
        "id": "4tTAqPJTx3vR",
        "outputId": "f56feab9-0d3a-4f52-ab0e-a74879e1dd6a"
      },
      "execution_count": null,
      "outputs": [
        {
          "output_type": "execute_result",
          "data": {
            "text/plain": [
              "0.0    0.952494\n",
              "1.0    0.047506\n",
              "Name: sentiment, dtype: float64"
            ]
          },
          "metadata": {},
          "execution_count": 19
        }
      ]
    },
    {
      "cell_type": "code",
      "source": [],
      "metadata": {
        "id": "RVTy5YUbx6Th"
      },
      "execution_count": null,
      "outputs": []
    },
    {
      "cell_type": "code",
      "source": [
        "import re"
      ],
      "metadata": {
        "id": "f2yHHNd8yC8z"
      },
      "execution_count": null,
      "outputs": []
    },
    {
      "cell_type": "code",
      "source": [
        "# Stop words Removal\n",
        "import nltk\n",
        "from nltk.corpus import stopwords"
      ],
      "metadata": {
        "id": "hFS8OdnqyFHb"
      },
      "execution_count": null,
      "outputs": []
    },
    {
      "cell_type": "code",
      "source": [
        "nltk_stopwords = set(stopwords.words('english'))\n",
        "print(nltk_stopwords)"
      ],
      "metadata": {
        "colab": {
          "base_uri": "https://localhost:8080/"
        },
        "id": "RQCZw84xyNuD",
        "outputId": "4dad0474-2606-41a2-9784-860f94e800d1"
      },
      "execution_count": null,
      "outputs": [
        {
          "output_type": "stream",
          "name": "stdout",
          "text": [
            "{'theirs', 'have', \"you're\", 'am', 'weren', 'd', \"she's\", 'an', 'at', 't', \"won't\", 'mightn', 'while', 'that', 'over', 'further', 'before', 'll', 'aren', 'we', 'she', 'than', 'didn', 'yourselves', 'this', 'm', 'wasn', 'was', 'does', 'between', \"shan't\", 'not', \"aren't\", \"shouldn't\", 'above', 'my', 'other', 'her', 'too', 'himself', 'then', 'o', 'they', 'into', 'few', \"wasn't\", \"you've\", 'do', 'by', 'because', 'but', \"hadn't\", 'i', 'myself', 'will', 'if', 's', \"you'll\", 'don', 'ourselves', \"hasn't\", \"you'd\", \"wouldn't\", 'what', 'were', 'ma', 'on', \"that'll\", 'doesn', 'which', 'more', 'your', 'their', 'doing', 'where', \"haven't\", 'hasn', 'out', 'under', 'most', 'its', 'from', 'hers', 'there', 'the', 'such', 'up', 'same', 'needn', 'haven', 'you', 'some', \"didn't\", 'them', 'having', 'ain', 'through', 'yours', 'against', 'off', 'those', \"should've\", 'each', 'as', 'y', 'couldn', 'below', 'itself', 'for', 'after', 'about', 'here', 'our', 'won', 'ours', 'very', 'of', 'with', 'is', \"couldn't\", 'it', 'shouldn', 'themselves', 'only', \"don't\", 'yourself', \"it's\", 'how', 'hadn', 'him', 'during', 'can', 'who', 'had', \"needn't\", 'isn', \"isn't\", 'herself', 'his', 'why', 'mustn', 'own', 'until', 'in', \"mustn't\", 'now', 'both', 'whom', 'again', 'a', 'been', 'and', 'he', 'all', 'these', 'being', 'wouldn', 'be', 'or', 'to', 'when', 'shan', \"mightn't\", 'nor', 're', \"weren't\", \"doesn't\", 'any', 'down', 'has', 'once', 've', 'are', 'just', 'should', 'me', 'so', 'no', 'did'}\n"
          ]
        }
      ]
    },
    {
      "cell_type": "code",
      "source": [
        "len(nltk_stopwords)"
      ],
      "metadata": {
        "colab": {
          "base_uri": "https://localhost:8080/"
        },
        "id": "yJJ_T1H2yPhD",
        "outputId": "dee794c4-7979-49db-b55f-b3fd250fb937"
      },
      "execution_count": null,
      "outputs": [
        {
          "output_type": "execute_result",
          "data": {
            "text/plain": [
              "179"
            ]
          },
          "metadata": {},
          "execution_count": 23
        }
      ]
    },
    {
      "cell_type": "code",
      "source": [
        "from sklearn.feature_extraction.text import ENGLISH_STOP_WORDS\n",
        "sklearn_stopwords = set(ENGLISH_STOP_WORDS)\n",
        "print(sklearn_stopwords)"
      ],
      "metadata": {
        "colab": {
          "base_uri": "https://localhost:8080/"
        },
        "id": "ggVdacO6yZ9I",
        "outputId": "9e9d829a-befe-4b37-e510-da06baf7b5d6"
      },
      "execution_count": null,
      "outputs": [
        {
          "output_type": "stream",
          "name": "stdout",
          "text": [
            "{'someone', 'behind', 'often', 'see', 'others', 'forty', 'something', 'whatever', 'over', 'first', 'before', 'otherwise', 'con', 'become', 'sincere', 'former', 'although', 'beforehand', 'hereupon', 'between', 'six', 'beside', 'whether', 'anyone', 'my', 'himself', 'then', 'less', 'into', 'almost', 'put', 'do', 'together', 'found', 'side', 'myself', 'will', 'hundred', 'if', 'hence', 'herein', 'ourselves', 'moreover', 'three', 'among', 'latterly', 'towards', 'serious', 'without', 'were', 'per', 'must', 'seeming', 'onto', 'four', 'more', 'thereafter', 'fire', 'never', 'thru', 'most', 'still', 'seem', 'its', 'hers', 'became', 'keep', 'back', 'around', 'the', 'via', 'same', 'noone', 'you', 'some', 'except', 'whole', 'eleven', 'against', 'those', 'as', 'hereafter', 'afterwards', 'wherever', 'describe', 'here', 'meanwhile', 'about', 'besides', 'either', 'somewhere', 'ours', 'alone', 'with', 'hereby', 'elsewhere', 'only', 'themselves', 'every', 'done', 'mine', 'seems', 'how', 'well', 'him', 'find', 'who', 'had', 'ten', 'twenty', 'his', 'why', 'fill', 'cant', 'own', 'many', 'though', 'made', 'please', 'whoever', 'bill', 'again', 'whom', 'wherein', 'a', 'been', 'co', 'all', 'he', 'be', 'ie', 'or', 'when', 'un', 'name', 'nor', 're', 'another', 'also', 'cannot', 'show', 'however', 'down', 'has', 'mill', 'whereby', 'me', 'might', 'within', 'whenever', 'so', 'two', 'thereupon', 'top', 'have', 'ever', 'across', 'hasnt', 'am', 'an', 'at', 'call', 'none', 'while', 'that', 'bottom', 'even', 'sixty', 'whereas', 'go', 'further', 'somehow', 'we', 'she', 'than', 'anywhere', 'last', 'this', 'yourselves', 'toward', 'everything', 'formerly', 'system', 'namely', 'whereafter', 'sometimes', 'was', 'part', 'nothing', 'not', 'above', 'front', 'other', 'her', 'too', 'eg', 'neither', 'few', 'they', 'by', 'but', 'because', 'i', 'detail', 'etc', 'several', 'becomes', 'one', 'would', 'nevertheless', 'much', 'nobody', 'amount', 'full', 'third', 'whence', 'what', 'everywhere', 'indeed', 'on', 'everyone', 'which', 'since', 'ltd', 'your', 'their', 'where', 'could', 'out', 'nine', 'amongst', 'under', 'whereupon', 'eight', 'thereby', 'from', 'yet', 'take', 'give', 'thin', 'anyhow', 'due', 'enough', 'there', 'thus', 'such', 'else', 'already', 'therein', 'up', 'cry', 'becoming', 'always', 'us', 'fifty', 'them', 'through', 'yours', 'off', 'inc', 'next', 'each', 'below', 'beyond', 'for', 'itself', 'after', 'our', 'latter', 'very', 'of', 'seemed', 'is', 'it', 'yourself', 'five', 'amoungst', 'empty', 'during', 'can', 'perhaps', 'mostly', 'thence', 'herself', 'until', 'in', 'rather', 'throughout', 'interest', 'now', 'both', 'may', 'least', 'whose', 'therefore', 'move', 'and', 'these', 'being', 'anyway', 'to', 'nowhere', 'thick', 'twelve', 'along', 'whither', 'anything', 'any', 'sometime', 'once', 'upon', 'are', 'get', 'should', 'fifteen', 'de', 'couldnt', 'no'}\n"
          ]
        }
      ]
    },
    {
      "cell_type": "code",
      "source": [
        "len(sklearn_stopwords)"
      ],
      "metadata": {
        "colab": {
          "base_uri": "https://localhost:8080/"
        },
        "id": "CRux6pWZyb3I",
        "outputId": "677b02e6-be31-4932-bc7b-2c62f5b7bc9e"
      },
      "execution_count": null,
      "outputs": [
        {
          "output_type": "execute_result",
          "data": {
            "text/plain": [
              "318"
            ]
          },
          "metadata": {},
          "execution_count": 25
        }
      ]
    },
    {
      "cell_type": "code",
      "source": [
        "# Find the common stopwords from NLTK & sklearn\n",
        "print(nltk_stopwords.intersection(sklearn_stopwords))"
      ],
      "metadata": {
        "colab": {
          "base_uri": "https://localhost:8080/"
        },
        "id": "3j94Zmp5yeqc",
        "outputId": "eb53b352-41b3-4ca0-ba63-606ce049a9e1"
      },
      "execution_count": null,
      "outputs": [
        {
          "output_type": "stream",
          "name": "stdout",
          "text": [
            "{'have', 'am', 'an', 'at', 'while', 'that', 'over', 'further', 'before', 'we', 'than', 'she', 'yourselves', 'this', 'was', 'between', 'not', 'above', 'my', 'other', 'her', 'too', 'himself', 'then', 'they', 'into', 'few', 'do', 'by', 'but', 'because', 'i', 'myself', 'will', 'if', 'ourselves', 'what', 'were', 'on', 'which', 'more', 'your', 'their', 'where', 'out', 'under', 'most', 'its', 'from', 'hers', 'there', 'the', 'such', 'up', 'same', 'you', 'some', 'them', 'through', 'yours', 'against', 'off', 'those', 'each', 'as', 'below', 'itself', 'for', 'after', 'about', 'here', 'our', 'ours', 'very', 'of', 'with', 'is', 'it', 'themselves', 'only', 'yourself', 'how', 'him', 'during', 'can', 'who', 'had', 'herself', 'his', 'why', 'own', 'until', 'in', 'now', 'both', 'whom', 'again', 'a', 'been', 'and', 'he', 'all', 'these', 'being', 'be', 'or', 'to', 'when', 'nor', 're', 'any', 'down', 'has', 'once', 'are', 'should', 'me', 'so', 'no'}\n"
          ]
        }
      ]
    },
    {
      "cell_type": "code",
      "source": [
        "len(nltk_stopwords.intersection(sklearn_stopwords))"
      ],
      "metadata": {
        "colab": {
          "base_uri": "https://localhost:8080/"
        },
        "id": "arqO1vK0ygFg",
        "outputId": "279e8cf9-dcc0-4952-fa7c-f5a4a5b0ce58"
      },
      "execution_count": null,
      "outputs": [
        {
          "output_type": "execute_result",
          "data": {
            "text/plain": [
              "119"
            ]
          },
          "metadata": {},
          "execution_count": 27
        }
      ]
    },
    {
      "cell_type": "code",
      "source": [
        "# Combining the stopwords from sklearn & NLTK\n",
        "combined_stopwords = nltk_stopwords.union(sklearn_stopwords)"
      ],
      "metadata": {
        "id": "KDX4WhTFyhur"
      },
      "execution_count": null,
      "outputs": []
    },
    {
      "cell_type": "code",
      "source": [
        "len(combined_stopwords)"
      ],
      "metadata": {
        "colab": {
          "base_uri": "https://localhost:8080/"
        },
        "id": "oSrgzalOyjXi",
        "outputId": "445d042f-da60-408f-c7ad-fa68b6f896f1"
      },
      "execution_count": null,
      "outputs": [
        {
          "output_type": "execute_result",
          "data": {
            "text/plain": [
              "378"
            ]
          },
          "metadata": {},
          "execution_count": 29
        }
      ]
    },
    {
      "cell_type": "code",
      "source": [
        "# Text Normalization: Stemming or Lemmatization (prefer)\n",
        "from nltk.stem import WordNetLemmatizer\n",
        "lemmatizer = WordNetLemmatizer()"
      ],
      "metadata": {
        "id": "GdECEe5sykuv"
      },
      "execution_count": null,
      "outputs": []
    },
    {
      "cell_type": "code",
      "source": [
        "!pip install contractions"
      ],
      "metadata": {
        "colab": {
          "base_uri": "https://localhost:8080/"
        },
        "id": "SYzGcVnYymQS",
        "outputId": "5aa6f80b-31b1-4efa-8226-ed9f507360a4"
      },
      "execution_count": null,
      "outputs": [
        {
          "output_type": "stream",
          "name": "stdout",
          "text": [
            "Collecting contractions\n",
            "  Downloading contractions-0.1.73-py2.py3-none-any.whl (8.7 kB)\n",
            "Collecting textsearch>=0.0.21 (from contractions)\n",
            "  Downloading textsearch-0.0.24-py2.py3-none-any.whl (7.6 kB)\n",
            "Collecting anyascii (from textsearch>=0.0.21->contractions)\n",
            "  Downloading anyascii-0.3.2-py3-none-any.whl (289 kB)\n",
            "\u001b[2K     \u001b[90m━━━━━━━━━━━━━━━━━━━━━━━━━━━━━━━━━━━━━━━\u001b[0m \u001b[32m289.9/289.9 kB\u001b[0m \u001b[31m6.0 MB/s\u001b[0m eta \u001b[36m0:00:00\u001b[0m\n",
            "\u001b[?25hCollecting pyahocorasick (from textsearch>=0.0.21->contractions)\n",
            "  Downloading pyahocorasick-2.0.0-cp310-cp310-manylinux_2_5_x86_64.manylinux1_x86_64.manylinux_2_12_x86_64.manylinux2010_x86_64.whl (110 kB)\n",
            "\u001b[2K     \u001b[90m━━━━━━━━━━━━━━━━━━━━━━━━━━━━━━━━━━━━━━\u001b[0m \u001b[32m110.8/110.8 kB\u001b[0m \u001b[31m11.1 MB/s\u001b[0m eta \u001b[36m0:00:00\u001b[0m\n",
            "\u001b[?25hInstalling collected packages: pyahocorasick, anyascii, textsearch, contractions\n",
            "Successfully installed anyascii-0.3.2 contractions-0.1.73 pyahocorasick-2.0.0 textsearch-0.0.24\n"
          ]
        }
      ]
    },
    {
      "cell_type": "code",
      "source": [
        "import contractions"
      ],
      "metadata": {
        "id": "VVmTUZT-yqSv"
      },
      "execution_count": null,
      "outputs": []
    },
    {
      "cell_type": "code",
      "source": [
        "#Define the Cleaner Function & Apply"
      ],
      "metadata": {
        "id": "9CEFt0EXyt8v"
      },
      "execution_count": null,
      "outputs": []
    },
    {
      "cell_type": "code",
      "source": [
        "def cleaner_without_stopwords(text):\n",
        "    new_text = re.sub(r\"'s\\b\", \" is\", text)\n",
        "    new_text = re.sub(\"#\", \"\", new_text)\n",
        "    new_text = re.sub(\"@[A-Za-z0-9]+\", \"\", new_text)\n",
        "    new_text = re.sub(r\"http\\S+\", \"\", new_text)\n",
        "    new_text = contractions.fix(new_text)\n",
        "    new_text = re.sub(r\"[^a-zA-Z]\", \" \", new_text)\n",
        "    new_text = new_text.lower().strip()\n",
        "\n",
        "    cleaned_text = ''\n",
        "    for token in new_text.split():\n",
        "        cleaned_text = cleaned_text + lemmatizer.lemmatize(token) + ' '\n",
        "\n",
        "    return cleaned_text"
      ],
      "metadata": {
        "id": "sCMTT2BYyxHn"
      },
      "execution_count": null,
      "outputs": []
    },
    {
      "cell_type": "code",
      "source": [
        "cleaned_reviews = []  # list of cleaned tweets\n",
        "for twt in data['reviews.text']:\n",
        "    cleaned_reviews.append(cleaner_without_stopwords(twt))"
      ],
      "metadata": {
        "id": "iSu5Oslby0V0"
      },
      "execution_count": null,
      "outputs": []
    },
    {
      "cell_type": "code",
      "source": [
        "data['cleaned_reviews_w/o_SW'] = cleaned_reviews\n",
        "data.head()"
      ],
      "metadata": {
        "colab": {
          "base_uri": "https://localhost:8080/",
          "height": 570
        },
        "id": "BLyKCAURzOAf",
        "outputId": "a9abfeae-6f66-4bd0-9353-18ed66c0217b"
      },
      "execution_count": null,
      "outputs": [
        {
          "output_type": "stream",
          "name": "stderr",
          "text": [
            "<ipython-input-36-5c3b5a5e91c9>:1: SettingWithCopyWarning: \n",
            "A value is trying to be set on a copy of a slice from a DataFrame.\n",
            "Try using .loc[row_indexer,col_indexer] = value instead\n",
            "\n",
            "See the caveats in the documentation: https://pandas.pydata.org/pandas-docs/stable/user_guide/indexing.html#returning-a-view-versus-a-copy\n",
            "  data['cleaned_reviews_w/o_SW'] = cleaned_reviews\n"
          ]
        },
        {
          "output_type": "execute_result",
          "data": {
            "text/plain": [
              "   id Category                       name  reviews.rating  \\\n",
              "0   1   Tablet   Fire HD 8 Tablet, 16 GB              5.0   \n",
              "1   2   Tablet   Fire HD 8 Tablet, 16 GB              5.0   \n",
              "2   3   Tablet   Fire HD 8 Tablet, 16 GB              5.0   \n",
              "3   4   Tablet   Fire HD 8 Tablet, 16 GB              4.0   \n",
              "4   5   Tablet   Fire HD 8 Tablet, 16 GB              5.0   \n",
              "\n",
              "                                                                                                                                                                                              reviews.text  \\\n",
              "0                                                          This product so far has not disappointed. My children love to use it and I like the ability to monitor control what content they see with ease.   \n",
              "1                                                                                                                              great for beginner or experienced person. Bought as a gift and she loves it   \n",
              "2                                                                      Inexpensive tablet for him to use and learn on, step up from the NABI. He was thrilled with it, learn how to Skype on it already...   \n",
              "3  I've had my Fire HD 8 two weeks now and I love it. This tablet is a great value.We are Prime Members and that is where this tablet SHINES. I love being able to easily access all of the Prime conte...   \n",
              "4  I bought this for my grand daughter when she comes over to visit. I set it up with her as the user, entered her age and name and now Amazon makes sure that she only accesses sites and content that...   \n",
              "\n",
              "   sentiment  \\\n",
              "0        0.0   \n",
              "1        0.0   \n",
              "2        0.0   \n",
              "3        0.0   \n",
              "4        0.0   \n",
              "\n",
              "                                                                                                                                                                                    cleaned_reviews_w/o_SW  \n",
              "0                                                               this product so far ha not disappointed my child love to use it and i like the ability to monitor control what content they see with ease   \n",
              "1                                                                                                                                great for beginner or experienced person bought a a gift and she love it   \n",
              "2                                                                            inexpensive tablet for him to use and learn on step up from the nabi he wa thrilled with it learn how to skype on it already   \n",
              "3  i have had my fire hd two week now and i love it this tablet is a great value we are prime member and that is where this tablet shine i love being able to easily access all of the prime content a ...  \n",
              "4  i bought this for my grand daughter when she come over to visit i set it up with her a the user entered her age and name and now amazon make sure that she only access site and content that are app...  "
            ],
            "text/html": [
              "\n",
              "  <div id=\"df-906c17ae-984a-47de-8fe2-a05aa518567f\" class=\"colab-df-container\">\n",
              "    <div>\n",
              "<style scoped>\n",
              "    .dataframe tbody tr th:only-of-type {\n",
              "        vertical-align: middle;\n",
              "    }\n",
              "\n",
              "    .dataframe tbody tr th {\n",
              "        vertical-align: top;\n",
              "    }\n",
              "\n",
              "    .dataframe thead th {\n",
              "        text-align: right;\n",
              "    }\n",
              "</style>\n",
              "<table border=\"1\" class=\"dataframe\">\n",
              "  <thead>\n",
              "    <tr style=\"text-align: right;\">\n",
              "      <th></th>\n",
              "      <th>id</th>\n",
              "      <th>Category</th>\n",
              "      <th>name</th>\n",
              "      <th>reviews.rating</th>\n",
              "      <th>reviews.text</th>\n",
              "      <th>sentiment</th>\n",
              "      <th>cleaned_reviews_w/o_SW</th>\n",
              "    </tr>\n",
              "  </thead>\n",
              "  <tbody>\n",
              "    <tr>\n",
              "      <th>0</th>\n",
              "      <td>1</td>\n",
              "      <td>Tablet</td>\n",
              "      <td>Fire HD 8 Tablet, 16 GB</td>\n",
              "      <td>5.0</td>\n",
              "      <td>This product so far has not disappointed. My children love to use it and I like the ability to monitor control what content they see with ease.</td>\n",
              "      <td>0.0</td>\n",
              "      <td>this product so far ha not disappointed my child love to use it and i like the ability to monitor control what content they see with ease</td>\n",
              "    </tr>\n",
              "    <tr>\n",
              "      <th>1</th>\n",
              "      <td>2</td>\n",
              "      <td>Tablet</td>\n",
              "      <td>Fire HD 8 Tablet, 16 GB</td>\n",
              "      <td>5.0</td>\n",
              "      <td>great for beginner or experienced person. Bought as a gift and she loves it</td>\n",
              "      <td>0.0</td>\n",
              "      <td>great for beginner or experienced person bought a a gift and she love it</td>\n",
              "    </tr>\n",
              "    <tr>\n",
              "      <th>2</th>\n",
              "      <td>3</td>\n",
              "      <td>Tablet</td>\n",
              "      <td>Fire HD 8 Tablet, 16 GB</td>\n",
              "      <td>5.0</td>\n",
              "      <td>Inexpensive tablet for him to use and learn on, step up from the NABI. He was thrilled with it, learn how to Skype on it already...</td>\n",
              "      <td>0.0</td>\n",
              "      <td>inexpensive tablet for him to use and learn on step up from the nabi he wa thrilled with it learn how to skype on it already</td>\n",
              "    </tr>\n",
              "    <tr>\n",
              "      <th>3</th>\n",
              "      <td>4</td>\n",
              "      <td>Tablet</td>\n",
              "      <td>Fire HD 8 Tablet, 16 GB</td>\n",
              "      <td>4.0</td>\n",
              "      <td>I've had my Fire HD 8 two weeks now and I love it. This tablet is a great value.We are Prime Members and that is where this tablet SHINES. I love being able to easily access all of the Prime conte...</td>\n",
              "      <td>0.0</td>\n",
              "      <td>i have had my fire hd two week now and i love it this tablet is a great value we are prime member and that is where this tablet shine i love being able to easily access all of the prime content a ...</td>\n",
              "    </tr>\n",
              "    <tr>\n",
              "      <th>4</th>\n",
              "      <td>5</td>\n",
              "      <td>Tablet</td>\n",
              "      <td>Fire HD 8 Tablet, 16 GB</td>\n",
              "      <td>5.0</td>\n",
              "      <td>I bought this for my grand daughter when she comes over to visit. I set it up with her as the user, entered her age and name and now Amazon makes sure that she only accesses sites and content that...</td>\n",
              "      <td>0.0</td>\n",
              "      <td>i bought this for my grand daughter when she come over to visit i set it up with her a the user entered her age and name and now amazon make sure that she only access site and content that are app...</td>\n",
              "    </tr>\n",
              "  </tbody>\n",
              "</table>\n",
              "</div>\n",
              "    <div class=\"colab-df-buttons\">\n",
              "\n",
              "  <div class=\"colab-df-container\">\n",
              "    <button class=\"colab-df-convert\" onclick=\"convertToInteractive('df-906c17ae-984a-47de-8fe2-a05aa518567f')\"\n",
              "            title=\"Convert this dataframe to an interactive table.\"\n",
              "            style=\"display:none;\">\n",
              "\n",
              "  <svg xmlns=\"http://www.w3.org/2000/svg\" height=\"24px\" viewBox=\"0 -960 960 960\">\n",
              "    <path d=\"M120-120v-720h720v720H120Zm60-500h600v-160H180v160Zm220 220h160v-160H400v160Zm0 220h160v-160H400v160ZM180-400h160v-160H180v160Zm440 0h160v-160H620v160ZM180-180h160v-160H180v160Zm440 0h160v-160H620v160Z\"/>\n",
              "  </svg>\n",
              "    </button>\n",
              "\n",
              "  <style>\n",
              "    .colab-df-container {\n",
              "      display:flex;\n",
              "      gap: 12px;\n",
              "    }\n",
              "\n",
              "    .colab-df-convert {\n",
              "      background-color: #E8F0FE;\n",
              "      border: none;\n",
              "      border-radius: 50%;\n",
              "      cursor: pointer;\n",
              "      display: none;\n",
              "      fill: #1967D2;\n",
              "      height: 32px;\n",
              "      padding: 0 0 0 0;\n",
              "      width: 32px;\n",
              "    }\n",
              "\n",
              "    .colab-df-convert:hover {\n",
              "      background-color: #E2EBFA;\n",
              "      box-shadow: 0px 1px 2px rgba(60, 64, 67, 0.3), 0px 1px 3px 1px rgba(60, 64, 67, 0.15);\n",
              "      fill: #174EA6;\n",
              "    }\n",
              "\n",
              "    .colab-df-buttons div {\n",
              "      margin-bottom: 4px;\n",
              "    }\n",
              "\n",
              "    [theme=dark] .colab-df-convert {\n",
              "      background-color: #3B4455;\n",
              "      fill: #D2E3FC;\n",
              "    }\n",
              "\n",
              "    [theme=dark] .colab-df-convert:hover {\n",
              "      background-color: #434B5C;\n",
              "      box-shadow: 0px 1px 3px 1px rgba(0, 0, 0, 0.15);\n",
              "      filter: drop-shadow(0px 1px 2px rgba(0, 0, 0, 0.3));\n",
              "      fill: #FFFFFF;\n",
              "    }\n",
              "  </style>\n",
              "\n",
              "    <script>\n",
              "      const buttonEl =\n",
              "        document.querySelector('#df-906c17ae-984a-47de-8fe2-a05aa518567f button.colab-df-convert');\n",
              "      buttonEl.style.display =\n",
              "        google.colab.kernel.accessAllowed ? 'block' : 'none';\n",
              "\n",
              "      async function convertToInteractive(key) {\n",
              "        const element = document.querySelector('#df-906c17ae-984a-47de-8fe2-a05aa518567f');\n",
              "        const dataTable =\n",
              "          await google.colab.kernel.invokeFunction('convertToInteractive',\n",
              "                                                    [key], {});\n",
              "        if (!dataTable) return;\n",
              "\n",
              "        const docLinkHtml = 'Like what you see? Visit the ' +\n",
              "          '<a target=\"_blank\" href=https://colab.research.google.com/notebooks/data_table.ipynb>data table notebook</a>'\n",
              "          + ' to learn more about interactive tables.';\n",
              "        element.innerHTML = '';\n",
              "        dataTable['output_type'] = 'display_data';\n",
              "        await google.colab.output.renderOutput(dataTable, element);\n",
              "        const docLink = document.createElement('div');\n",
              "        docLink.innerHTML = docLinkHtml;\n",
              "        element.appendChild(docLink);\n",
              "      }\n",
              "    </script>\n",
              "  </div>\n",
              "\n",
              "\n",
              "<div id=\"df-7d9778ce-df9e-4a1b-8f5c-7718e240c027\">\n",
              "  <button class=\"colab-df-quickchart\" onclick=\"quickchart('df-7d9778ce-df9e-4a1b-8f5c-7718e240c027')\"\n",
              "            title=\"Suggest charts.\"\n",
              "            style=\"display:none;\">\n",
              "\n",
              "<svg xmlns=\"http://www.w3.org/2000/svg\" height=\"24px\"viewBox=\"0 0 24 24\"\n",
              "     width=\"24px\">\n",
              "    <g>\n",
              "        <path d=\"M19 3H5c-1.1 0-2 .9-2 2v14c0 1.1.9 2 2 2h14c1.1 0 2-.9 2-2V5c0-1.1-.9-2-2-2zM9 17H7v-7h2v7zm4 0h-2V7h2v10zm4 0h-2v-4h2v4z\"/>\n",
              "    </g>\n",
              "</svg>\n",
              "  </button>\n",
              "\n",
              "<style>\n",
              "  .colab-df-quickchart {\n",
              "    background-color: #E8F0FE;\n",
              "    border: none;\n",
              "    border-radius: 50%;\n",
              "    cursor: pointer;\n",
              "    display: none;\n",
              "    fill: #1967D2;\n",
              "    height: 32px;\n",
              "    padding: 0 0 0 0;\n",
              "    width: 32px;\n",
              "  }\n",
              "\n",
              "  .colab-df-quickchart:hover {\n",
              "    background-color: #E2EBFA;\n",
              "    box-shadow: 0px 1px 2px rgba(60, 64, 67, 0.3), 0px 1px 3px 1px rgba(60, 64, 67, 0.15);\n",
              "    fill: #174EA6;\n",
              "  }\n",
              "\n",
              "  [theme=dark] .colab-df-quickchart {\n",
              "    background-color: #3B4455;\n",
              "    fill: #D2E3FC;\n",
              "  }\n",
              "\n",
              "  [theme=dark] .colab-df-quickchart:hover {\n",
              "    background-color: #434B5C;\n",
              "    box-shadow: 0px 1px 3px 1px rgba(0, 0, 0, 0.15);\n",
              "    filter: drop-shadow(0px 1px 2px rgba(0, 0, 0, 0.3));\n",
              "    fill: #FFFFFF;\n",
              "  }\n",
              "</style>\n",
              "\n",
              "  <script>\n",
              "    async function quickchart(key) {\n",
              "      const charts = await google.colab.kernel.invokeFunction(\n",
              "          'suggestCharts', [key], {});\n",
              "    }\n",
              "    (() => {\n",
              "      let quickchartButtonEl =\n",
              "        document.querySelector('#df-7d9778ce-df9e-4a1b-8f5c-7718e240c027 button');\n",
              "      quickchartButtonEl.style.display =\n",
              "        google.colab.kernel.accessAllowed ? 'block' : 'none';\n",
              "    })();\n",
              "  </script>\n",
              "</div>\n",
              "    </div>\n",
              "  </div>\n"
            ]
          },
          "metadata": {},
          "execution_count": 36
        }
      ]
    },
    {
      "cell_type": "code",
      "source": [
        "# Write a code to collect all the words from all the tweets into a single list\n",
        "all_words = []\n",
        "for t in data['reviews.text']:\n",
        "    all_words.extend(t.split())\n",
        "\n",
        "print(all_words[:50])\n",
        "len(set(all_words)) # this is the number of unique words in the list"
      ],
      "metadata": {
        "colab": {
          "base_uri": "https://localhost:8080/"
        },
        "id": "E1rKVqQezpSE",
        "outputId": "1d13c751-7417-4ff3-ff8a-486a1edd4528"
      },
      "execution_count": null,
      "outputs": [
        {
          "output_type": "stream",
          "name": "stdout",
          "text": [
            "['This', 'product', 'so', 'far', 'has', 'not', 'disappointed.', 'My', 'children', 'love', 'to', 'use', 'it', 'and', 'I', 'like', 'the', 'ability', 'to', 'monitor', 'control', 'what', 'content', 'they', 'see', 'with', 'ease.', 'great', 'for', 'beginner', 'or', 'experienced', 'person.', 'Bought', 'as', 'a', 'gift', 'and', 'she', 'loves', 'it', 'Inexpensive', 'tablet', 'for', 'him', 'to', 'use', 'and', 'learn', 'on,']\n"
          ]
        },
        {
          "output_type": "execute_result",
          "data": {
            "text/plain": [
              "32374"
            ]
          },
          "metadata": {},
          "execution_count": 37
        }
      ]
    },
    {
      "cell_type": "code",
      "source": [
        "import matplotlib.pyplot as plt"
      ],
      "metadata": {
        "id": "06Ql4cV8zuXf"
      },
      "execution_count": null,
      "outputs": []
    },
    {
      "cell_type": "code",
      "source": [
        "# Frequency Distribution\n",
        "freq_dist = nltk.FreqDist(all_words)\n",
        "\n",
        "plt.figure(figsize=(12,5))\n",
        "plt.title('Top 25 most common words')\n",
        "plt.xticks(fontsize=15)\n",
        "\n",
        "freq_dist.plot(25, cumulative=False)\n",
        "\n",
        "plt.show()"
      ],
      "metadata": {
        "colab": {
          "base_uri": "https://localhost:8080/",
          "height": 534
        },
        "id": "JuVPwcpmz1lT",
        "outputId": "15898bef-37be-47de-e3f8-e76046151ccb"
      },
      "execution_count": null,
      "outputs": [
        {
          "output_type": "display_data",
          "data": {
            "text/plain": [
              "<Figure size 1200x500 with 1 Axes>"
            ],
            "image/png": "[encoded data removed]"
          },
          "metadata": {}
        }
      ]
    },
    {
      "cell_type": "code",
      "source": [
        "# Plot for Cleaned Tweets"
      ],
      "metadata": {
        "id": "G__s8_0Wz3ML"
      },
      "execution_count": null,
      "outputs": []
    },
    {
      "cell_type": "code",
      "source": [
        "# Write the code for plotting the cleaned tweets\n",
        "all_words = []\n",
        "for t in data['cleaned_reviews_w/o_SW']:\n",
        "    all_words.extend(t.split())\n",
        "\n",
        "print(all_words[:50])"
      ],
      "metadata": {
        "colab": {
          "base_uri": "https://localhost:8080/"
        },
        "id": "Z-mtbHPqz_s_",
        "outputId": "f14b73cb-b27e-4842-82db-016b1d1d4bec"
      },
      "execution_count": null,
      "outputs": [
        {
          "output_type": "stream",
          "name": "stdout",
          "text": [
            "['this', 'product', 'so', 'far', 'ha', 'not', 'disappointed', 'my', 'child', 'love', 'to', 'use', 'it', 'and', 'i', 'like', 'the', 'ability', 'to', 'monitor', 'control', 'what', 'content', 'they', 'see', 'with', 'ease', 'great', 'for', 'beginner', 'or', 'experienced', 'person', 'bought', 'a', 'a', 'gift', 'and', 'she', 'love', 'it', 'inexpensive', 'tablet', 'for', 'him', 'to', 'use', 'and', 'learn', 'on']\n"
          ]
        }
      ]
    },
    {
      "cell_type": "code",
      "source": [
        "len(set(all_words)) # this is the number of unique words in the list"
      ],
      "metadata": {
        "colab": {
          "base_uri": "https://localhost:8080/"
        },
        "id": "nykNgQnG0BfH",
        "outputId": "7220a63a-a2f4-4950-ed90-ffada25e2dbf"
      },
      "execution_count": null,
      "outputs": [
        {
          "output_type": "execute_result",
          "data": {
            "text/plain": [
              "10666"
            ]
          },
          "metadata": {},
          "execution_count": 42
        }
      ]
    },
    {
      "cell_type": "code",
      "source": [
        "# Frequency Distribution\n",
        "freq_dist = nltk.FreqDist(all_words)\n",
        "\n",
        "plt.figure(figsize=(12,5))\n",
        "plt.title('Top 25 most common words')\n",
        "plt.xticks(fontsize=15)\n",
        "\n",
        "freq_dist.plot(25, cumulative=False)\n",
        "\n",
        "plt.show()"
      ],
      "metadata": {
        "colab": {
          "base_uri": "https://localhost:8080/",
          "height": 536
        },
        "id": "DbkBFdrt0IDo",
        "outputId": "c67af757-4e09-4624-a8e5-d32b4ec93eed"
      },
      "execution_count": null,
      "outputs": [
        {
          "output_type": "display_data",
          "data": {
            "text/plain": [
              "<Figure size 1200x500 with 1 Axes>"
            ],
            "image/png": "[encoded data removed]"
          },
          "metadata": {}
        }
      ]
    },
    {
      "cell_type": "code",
      "source": [
        "#DV After applying Stop words"
      ],
      "metadata": {
        "id": "6niw5egY0J2A"
      },
      "execution_count": null,
      "outputs": []
    },
    {
      "cell_type": "code",
      "source": [
        "type(combined_stopwords)"
      ],
      "metadata": {
        "colab": {
          "base_uri": "https://localhost:8080/"
        },
        "id": "9ZqdYpIt0N2c",
        "outputId": "e2e9680e-3a24-4817-ab8a-b8903278bce4"
      },
      "execution_count": null,
      "outputs": [
        {
          "output_type": "execute_result",
          "data": {
            "text/plain": [
              "set"
            ]
          },
          "metadata": {},
          "execution_count": 45
        }
      ]
    },
    {
      "cell_type": "code",
      "source": [
        "def tweet_cleaner_with_stopwords(text):\n",
        "    new_text = re.sub(r\"'s\\b\", \" is\", text)\n",
        "    new_text = re.sub(\"#\", \"\", new_text)\n",
        "    new_text = re.sub(\"@[A-Za-z0-9]+\", \"\", new_text)\n",
        "    new_text = re.sub(r\"http\\S+\", \"\", new_text)\n",
        "    new_text = contractions.fix(new_text)\n",
        "    new_text = re.sub(r\"[^a-zA-Z]\", \" \", new_text)\n",
        "    new_text = new_text.lower().strip()\n",
        "\n",
        "    new_text = [token for token in new_text.split() if token not in combined_stopwords]\n",
        "\n",
        "    new_text = [token for token in new_text if len(token)>2]\n",
        "\n",
        "    cleaned_text = ''\n",
        "    for token in new_text:\n",
        "        cleaned_text = cleaned_text + lemmatizer.lemmatize(token) + ' '\n",
        "\n",
        "    return cleaned_text"
      ],
      "metadata": {
        "id": "sAX0L0cb0PgE"
      },
      "execution_count": null,
      "outputs": []
    },
    {
      "cell_type": "code",
      "source": [
        "data.columns"
      ],
      "metadata": {
        "colab": {
          "base_uri": "https://localhost:8080/"
        },
        "id": "WDuXrWok0TTb",
        "outputId": "dc99e339-c933-4e8b-d68a-96ec62489791"
      },
      "execution_count": null,
      "outputs": [
        {
          "output_type": "execute_result",
          "data": {
            "text/plain": [
              "Index(['id', 'Category', 'name', 'reviews.rating', 'reviews.text', 'sentiment',\n",
              "       'cleaned_reviews_w/o_SW'],\n",
              "      dtype='object')"
            ]
          },
          "metadata": {},
          "execution_count": 47
        }
      ]
    },
    {
      "cell_type": "code",
      "source": [
        "data['cleaned_reviews_with_SW'] = cleaned_reviews\n",
        "data.head()"
      ],
      "metadata": {
        "colab": {
          "base_uri": "https://localhost:8080/",
          "height": 813
        },
        "id": "Y5PmanE_0WzX",
        "outputId": "09b4fdb8-1e24-4dec-ee2e-f9f12f340519"
      },
      "execution_count": null,
      "outputs": [
        {
          "output_type": "stream",
          "name": "stderr",
          "text": [
            "<ipython-input-48-64a5dc48e552>:1: SettingWithCopyWarning: \n",
            "A value is trying to be set on a copy of a slice from a DataFrame.\n",
            "Try using .loc[row_indexer,col_indexer] = value instead\n",
            "\n",
            "See the caveats in the documentation: https://pandas.pydata.org/pandas-docs/stable/user_guide/indexing.html#returning-a-view-versus-a-copy\n",
            "  data['cleaned_reviews_with_SW'] = cleaned_reviews\n"
          ]
        },
        {
          "output_type": "execute_result",
          "data": {
            "text/plain": [
              "   id Category                       name  reviews.rating  \\\n",
              "0   1   Tablet   Fire HD 8 Tablet, 16 GB              5.0   \n",
              "1   2   Tablet   Fire HD 8 Tablet, 16 GB              5.0   \n",
              "2   3   Tablet   Fire HD 8 Tablet, 16 GB              5.0   \n",
              "3   4   Tablet   Fire HD 8 Tablet, 16 GB              4.0   \n",
              "4   5   Tablet   Fire HD 8 Tablet, 16 GB              5.0   \n",
              "\n",
              "                                                                                                                                                                                              reviews.text  \\\n",
              "0                                                          This product so far has not disappointed. My children love to use it and I like the ability to monitor control what content they see with ease.   \n",
              "1                                                                                                                              great for beginner or experienced person. Bought as a gift and she loves it   \n",
              "2                                                                      Inexpensive tablet for him to use and learn on, step up from the NABI. He was thrilled with it, learn how to Skype on it already...   \n",
              "3  I've had my Fire HD 8 two weeks now and I love it. This tablet is a great value.We are Prime Members and that is where this tablet SHINES. I love being able to easily access all of the Prime conte...   \n",
              "4  I bought this for my grand daughter when she comes over to visit. I set it up with her as the user, entered her age and name and now Amazon makes sure that she only accesses sites and content that...   \n",
              "\n",
              "   sentiment  \\\n",
              "0        0.0   \n",
              "1        0.0   \n",
              "2        0.0   \n",
              "3        0.0   \n",
              "4        0.0   \n",
              "\n",
              "                                                                                                                                                                                    cleaned_reviews_w/o_SW  \\\n",
              "0                                                               this product so far ha not disappointed my child love to use it and i like the ability to monitor control what content they see with ease    \n",
              "1                                                                                                                                great for beginner or experienced person bought a a gift and she love it    \n",
              "2                                                                            inexpensive tablet for him to use and learn on step up from the nabi he wa thrilled with it learn how to skype on it already    \n",
              "3  i have had my fire hd two week now and i love it this tablet is a great value we are prime member and that is where this tablet shine i love being able to easily access all of the prime content a ...   \n",
              "4  i bought this for my grand daughter when she come over to visit i set it up with her a the user entered her age and name and now amazon make sure that she only access site and content that are app...   \n",
              "\n",
              "                                                                                                                                                                                   cleaned_reviews_with_SW  \n",
              "0                                                               this product so far ha not disappointed my child love to use it and i like the ability to monitor control what content they see with ease   \n",
              "1                                                                                                                                great for beginner or experienced person bought a a gift and she love it   \n",
              "2                                                                            inexpensive tablet for him to use and learn on step up from the nabi he wa thrilled with it learn how to skype on it already   \n",
              "3  i have had my fire hd two week now and i love it this tablet is a great value we are prime member and that is where this tablet shine i love being able to easily access all of the prime content a ...  \n",
              "4  i bought this for my grand daughter when she come over to visit i set it up with her a the user entered her age and name and now amazon make sure that she only access site and content that are app...  "
            ],
            "text/html": [
              "\n",
              "  <div id=\"df-39c5204a-e2b9-45ae-a720-80de127db7e5\" class=\"colab-df-container\">\n",
              "    <div>\n",
              "<style scoped>\n",
              "    .dataframe tbody tr th:only-of-type {\n",
              "        vertical-align: middle;\n",
              "    }\n",
              "\n",
              "    .dataframe tbody tr th {\n",
              "        vertical-align: top;\n",
              "    }\n",
              "\n",
              "    .dataframe thead th {\n",
              "        text-align: right;\n",
              "    }\n",
              "</style>\n",
              "<table border=\"1\" class=\"dataframe\">\n",
              "  <thead>\n",
              "    <tr style=\"text-align: right;\">\n",
              "      <th></th>\n",
              "      <th>id</th>\n",
              "      <th>Category</th>\n",
              "      <th>name</th>\n",
              "      <th>reviews.rating</th>\n",
              "      <th>reviews.text</th>\n",
              "      <th>sentiment</th>\n",
              "      <th>cleaned_reviews_w/o_SW</th>\n",
              "      <th>cleaned_reviews_with_SW</th>\n",
              "    </tr>\n",
              "  </thead>\n",
              "  <tbody>\n",
              "    <tr>\n",
              "      <th>0</th>\n",
              "      <td>1</td>\n",
              "      <td>Tablet</td>\n",
              "      <td>Fire HD 8 Tablet, 16 GB</td>\n",
              "      <td>5.0</td>\n",
              "      <td>This product so far has not disappointed. My children love to use it and I like the ability to monitor control what content they see with ease.</td>\n",
              "      <td>0.0</td>\n",
              "      <td>this product so far ha not disappointed my child love to use it and i like the ability to monitor control what content they see with ease</td>\n",
              "      <td>this product so far ha not disappointed my child love to use it and i like the ability to monitor control what content they see with ease</td>\n",
              "    </tr>\n",
              "    <tr>\n",
              "      <th>1</th>\n",
              "      <td>2</td>\n",
              "      <td>Tablet</td>\n",
              "      <td>Fire HD 8 Tablet, 16 GB</td>\n",
              "      <td>5.0</td>\n",
              "      <td>great for beginner or experienced person. Bought as a gift and she loves it</td>\n",
              "      <td>0.0</td>\n",
              "      <td>great for beginner or experienced person bought a a gift and she love it</td>\n",
              "      <td>great for beginner or experienced person bought a a gift and she love it</td>\n",
              "    </tr>\n",
              "    <tr>\n",
              "      <th>2</th>\n",
              "      <td>3</td>\n",
              "      <td>Tablet</td>\n",
              "      <td>Fire HD 8 Tablet, 16 GB</td>\n",
              "      <td>5.0</td>\n",
              "      <td>Inexpensive tablet for him to use and learn on, step up from the NABI. He was thrilled with it, learn how to Skype on it already...</td>\n",
              "      <td>0.0</td>\n",
              "      <td>inexpensive tablet for him to use and learn on step up from the nabi he wa thrilled with it learn how to skype on it already</td>\n",
              "      <td>inexpensive tablet for him to use and learn on step up from the nabi he wa thrilled with it learn how to skype on it already</td>\n",
              "    </tr>\n",
              "    <tr>\n",
              "      <th>3</th>\n",
              "      <td>4</td>\n",
              "      <td>Tablet</td>\n",
              "      <td>Fire HD 8 Tablet, 16 GB</td>\n",
              "      <td>4.0</td>\n",
              "      <td>I've had my Fire HD 8 two weeks now and I love it. This tablet is a great value.We are Prime Members and that is where this tablet SHINES. I love being able to easily access all of the Prime conte...</td>\n",
              "      <td>0.0</td>\n",
              "      <td>i have had my fire hd two week now and i love it this tablet is a great value we are prime member and that is where this tablet shine i love being able to easily access all of the prime content a ...</td>\n",
              "      <td>i have had my fire hd two week now and i love it this tablet is a great value we are prime member and that is where this tablet shine i love being able to easily access all of the prime content a ...</td>\n",
              "    </tr>\n",
              "    <tr>\n",
              "      <th>4</th>\n",
              "      <td>5</td>\n",
              "      <td>Tablet</td>\n",
              "      <td>Fire HD 8 Tablet, 16 GB</td>\n",
              "      <td>5.0</td>\n",
              "      <td>I bought this for my grand daughter when she comes over to visit. I set it up with her as the user, entered her age and name and now Amazon makes sure that she only accesses sites and content that...</td>\n",
              "      <td>0.0</td>\n",
              "      <td>i bought this for my grand daughter when she come over to visit i set it up with her a the user entered her age and name and now amazon make sure that she only access site and content that are app...</td>\n",
              "      <td>i bought this for my grand daughter when she come over to visit i set it up with her a the user entered her age and name and now amazon make sure that she only access site and content that are app...</td>\n",
              "    </tr>\n",
              "  </tbody>\n",
              "</table>\n",
              "</div>\n",
              "    <div class=\"colab-df-buttons\">\n",
              "\n",
              "  <div class=\"colab-df-container\">\n",
              "    <button class=\"colab-df-convert\" onclick=\"convertToInteractive('df-39c5204a-e2b9-45ae-a720-80de127db7e5')\"\n",
              "            title=\"Convert this dataframe to an interactive table.\"\n",
              "            style=\"display:none;\">\n",
              "\n",
              "  <svg xmlns=\"http://www.w3.org/2000/svg\" height=\"24px\" viewBox=\"0 -960 960 960\">\n",
              "    <path d=\"M120-120v-720h720v720H120Zm60-500h600v-160H180v160Zm220 220h160v-160H400v160Zm0 220h160v-160H400v160ZM180-400h160v-160H180v160Zm440 0h160v-160H620v160ZM180-180h160v-160H180v160Zm440 0h160v-160H620v160Z\"/>\n",
              "  </svg>\n",
              "    </button>\n",
              "\n",
              "  <style>\n",
              "    .colab-df-container {\n",
              "      display:flex;\n",
              "      gap: 12px;\n",
              "    }\n",
              "\n",
              "    .colab-df-convert {\n",
              "      background-color: #E8F0FE;\n",
              "      border: none;\n",
              "      border-radius: 50%;\n",
              "      cursor: pointer;\n",
              "      display: none;\n",
              "      fill: #1967D2;\n",
              "      height: 32px;\n",
              "      padding: 0 0 0 0;\n",
              "      width: 32px;\n",
              "    }\n",
              "\n",
              "    .colab-df-convert:hover {\n",
              "      background-color: #E2EBFA;\n",
              "      box-shadow: 0px 1px 2px rgba(60, 64, 67, 0.3), 0px 1px 3px 1px rgba(60, 64, 67, 0.15);\n",
              "      fill: #174EA6;\n",
              "    }\n",
              "\n",
              "    .colab-df-buttons div {\n",
              "      margin-bottom: 4px;\n",
              "    }\n",
              "\n",
              "    [theme=dark] .colab-df-convert {\n",
              "      background-color: #3B4455;\n",
              "      fill: #D2E3FC;\n",
              "    }\n",
              "\n",
              "    [theme=dark] .colab-df-convert:hover {\n",
              "      background-color: #434B5C;\n",
              "      box-shadow: 0px 1px 3px 1px rgba(0, 0, 0, 0.15);\n",
              "      filter: drop-shadow(0px 1px 2px rgba(0, 0, 0, 0.3));\n",
              "      fill: #FFFFFF;\n",
              "    }\n",
              "  </style>\n",
              "\n",
              "    <script>\n",
              "      const buttonEl =\n",
              "        document.querySelector('#df-39c5204a-e2b9-45ae-a720-80de127db7e5 button.colab-df-convert');\n",
              "      buttonEl.style.display =\n",
              "        google.colab.kernel.accessAllowed ? 'block' : 'none';\n",
              "\n",
              "      async function convertToInteractive(key) {\n",
              "        const element = document.querySelector('#df-39c5204a-e2b9-45ae-a720-80de127db7e5');\n",
              "        const dataTable =\n",
              "          await google.colab.kernel.invokeFunction('convertToInteractive',\n",
              "                                                    [key], {});\n",
              "        if (!dataTable) return;\n",
              "\n",
              "        const docLinkHtml = 'Like what you see? Visit the ' +\n",
              "          '<a target=\"_blank\" href=https://colab.research.google.com/notebooks/data_table.ipynb>data table notebook</a>'\n",
              "          + ' to learn more about interactive tables.';\n",
              "        element.innerHTML = '';\n",
              "        dataTable['output_type'] = 'display_data';\n",
              "        await google.colab.output.renderOutput(dataTable, element);\n",
              "        const docLink = document.createElement('div');\n",
              "        docLink.innerHTML = docLinkHtml;\n",
              "        element.appendChild(docLink);\n",
              "      }\n",
              "    </script>\n",
              "  </div>\n",
              "\n",
              "\n",
              "<div id=\"df-7620929a-fd40-4c5a-b887-ffcb3db7a1a0\">\n",
              "  <button class=\"colab-df-quickchart\" onclick=\"quickchart('df-7620929a-fd40-4c5a-b887-ffcb3db7a1a0')\"\n",
              "            title=\"Suggest charts.\"\n",
              "            style=\"display:none;\">\n",
              "\n",
              "<svg xmlns=\"http://www.w3.org/2000/svg\" height=\"24px\"viewBox=\"0 0 24 24\"\n",
              "     width=\"24px\">\n",
              "    <g>\n",
              "        <path d=\"M19 3H5c-1.1 0-2 .9-2 2v14c0 1.1.9 2 2 2h14c1.1 0 2-.9 2-2V5c0-1.1-.9-2-2-2zM9 17H7v-7h2v7zm4 0h-2V7h2v10zm4 0h-2v-4h2v4z\"/>\n",
              "    </g>\n",
              "</svg>\n",
              "  </button>\n",
              "\n",
              "<style>\n",
              "  .colab-df-quickchart {\n",
              "    background-color: #E8F0FE;\n",
              "    border: none;\n",
              "    border-radius: 50%;\n",
              "    cursor: pointer;\n",
              "    display: none;\n",
              "    fill: #1967D2;\n",
              "    height: 32px;\n",
              "    padding: 0 0 0 0;\n",
              "    width: 32px;\n",
              "  }\n",
              "\n",
              "  .colab-df-quickchart:hover {\n",
              "    background-color: #E2EBFA;\n",
              "    box-shadow: 0px 1px 2px rgba(60, 64, 67, 0.3), 0px 1px 3px 1px rgba(60, 64, 67, 0.15);\n",
              "    fill: #174EA6;\n",
              "  }\n",
              "\n",
              "  [theme=dark] .colab-df-quickchart {\n",
              "    background-color: #3B4455;\n",
              "    fill: #D2E3FC;\n",
              "  }\n",
              "\n",
              "  [theme=dark] .colab-df-quickchart:hover {\n",
              "    background-color: #434B5C;\n",
              "    box-shadow: 0px 1px 3px 1px rgba(0, 0, 0, 0.15);\n",
              "    filter: drop-shadow(0px 1px 2px rgba(0, 0, 0, 0.3));\n",
              "    fill: #FFFFFF;\n",
              "  }\n",
              "</style>\n",
              "\n",
              "  <script>\n",
              "    async function quickchart(key) {\n",
              "      const charts = await google.colab.kernel.invokeFunction(\n",
              "          'suggestCharts', [key], {});\n",
              "    }\n",
              "    (() => {\n",
              "      let quickchartButtonEl =\n",
              "        document.querySelector('#df-7620929a-fd40-4c5a-b887-ffcb3db7a1a0 button');\n",
              "      quickchartButtonEl.style.display =\n",
              "        google.colab.kernel.accessAllowed ? 'block' : 'none';\n",
              "    })();\n",
              "  </script>\n",
              "</div>\n",
              "    </div>\n",
              "  </div>\n"
            ]
          },
          "metadata": {},
          "execution_count": 48
        }
      ]
    },
    {
      "cell_type": "code",
      "source": [
        "all_words = []\n",
        "for t in data['cleaned_reviews_with_SW']:\n",
        "    all_words.extend(t.split())\n",
        "\n",
        "print(all_words[:50])\n",
        "\n",
        "# Frequency Distribution\n",
        "freq_dist = nltk.FreqDist(all_words)\n",
        "\n",
        "plt.figure(figsize=(12,5))\n",
        "plt.title('Top 25 most common words')\n",
        "plt.xticks(fontsize=15)\n",
        "\n",
        "freq_dist.plot(25, cumulative=False)\n",
        "\n",
        "plt.show()"
      ],
      "metadata": {
        "colab": {
          "base_uri": "https://localhost:8080/",
          "height": 573
        },
        "id": "LrtEr72E0Yc7",
        "outputId": "8e32edf4-fdda-4878-f72b-68ec0f0b72f5"
      },
      "execution_count": null,
      "outputs": [
        {
          "output_type": "stream",
          "name": "stdout",
          "text": [
            "['this', 'product', 'so', 'far', 'ha', 'not', 'disappointed', 'my', 'child', 'love', 'to', 'use', 'it', 'and', 'i', 'like', 'the', 'ability', 'to', 'monitor', 'control', 'what', 'content', 'they', 'see', 'with', 'ease', 'great', 'for', 'beginner', 'or', 'experienced', 'person', 'bought', 'a', 'a', 'gift', 'and', 'she', 'love', 'it', 'inexpensive', 'tablet', 'for', 'him', 'to', 'use', 'and', 'learn', 'on']\n"
          ]
        },
        {
          "output_type": "display_data",
          "data": {
            "text/plain": [
              "<Figure size 1200x500 with 1 Axes>"
            ],
            "image/png": "[encoded data removed]"
          },
          "metadata": {}
        }
      ]
    },
    {
      "cell_type": "code",
      "source": [
        "data.head()"
      ],
      "metadata": {
        "colab": {
          "base_uri": "https://localhost:8080/",
          "height": 709
        },
        "id": "XP_eSxUn0oej",
        "outputId": "df8c5512-008f-4a7c-8dd5-86a3ada88b1a"
      },
      "execution_count": null,
      "outputs": [
        {
          "output_type": "execute_result",
          "data": {
            "text/plain": [
              "   id Category                       name  reviews.rating  \\\n",
              "0   1   Tablet   Fire HD 8 Tablet, 16 GB              5.0   \n",
              "1   2   Tablet   Fire HD 8 Tablet, 16 GB              5.0   \n",
              "2   3   Tablet   Fire HD 8 Tablet, 16 GB              5.0   \n",
              "3   4   Tablet   Fire HD 8 Tablet, 16 GB              4.0   \n",
              "4   5   Tablet   Fire HD 8 Tablet, 16 GB              5.0   \n",
              "\n",
              "                                                                                                                                                                                              reviews.text  \\\n",
              "0                                                          This product so far has not disappointed. My children love to use it and I like the ability to monitor control what content they see with ease.   \n",
              "1                                                                                                                              great for beginner or experienced person. Bought as a gift and she loves it   \n",
              "2                                                                      Inexpensive tablet for him to use and learn on, step up from the NABI. He was thrilled with it, learn how to Skype on it already...   \n",
              "3  I've had my Fire HD 8 two weeks now and I love it. This tablet is a great value.We are Prime Members and that is where this tablet SHINES. I love being able to easily access all of the Prime conte...   \n",
              "4  I bought this for my grand daughter when she comes over to visit. I set it up with her as the user, entered her age and name and now Amazon makes sure that she only accesses sites and content that...   \n",
              "\n",
              "   sentiment  \\\n",
              "0        0.0   \n",
              "1        0.0   \n",
              "2        0.0   \n",
              "3        0.0   \n",
              "4        0.0   \n",
              "\n",
              "                                                                                                                                                                                    cleaned_reviews_w/o_SW  \\\n",
              "0                                                               this product so far ha not disappointed my child love to use it and i like the ability to monitor control what content they see with ease    \n",
              "1                                                                                                                                great for beginner or experienced person bought a a gift and she love it    \n",
              "2                                                                            inexpensive tablet for him to use and learn on step up from the nabi he wa thrilled with it learn how to skype on it already    \n",
              "3  i have had my fire hd two week now and i love it this tablet is a great value we are prime member and that is where this tablet shine i love being able to easily access all of the prime content a ...   \n",
              "4  i bought this for my grand daughter when she come over to visit i set it up with her a the user entered her age and name and now amazon make sure that she only access site and content that are app...   \n",
              "\n",
              "                                                                                                                                                                                   cleaned_reviews_with_SW  \n",
              "0                                                               this product so far ha not disappointed my child love to use it and i like the ability to monitor control what content they see with ease   \n",
              "1                                                                                                                                great for beginner or experienced person bought a a gift and she love it   \n",
              "2                                                                            inexpensive tablet for him to use and learn on step up from the nabi he wa thrilled with it learn how to skype on it already   \n",
              "3  i have had my fire hd two week now and i love it this tablet is a great value we are prime member and that is where this tablet shine i love being able to easily access all of the prime content a ...  \n",
              "4  i bought this for my grand daughter when she come over to visit i set it up with her a the user entered her age and name and now amazon make sure that she only access site and content that are app...  "
            ],
            "text/html": [
              "\n",
              "  <div id=\"df-b7f25219-4d1b-4413-82f1-bfe2e1449c66\" class=\"colab-df-container\">\n",
              "    <div>\n",
              "<style scoped>\n",
              "    .dataframe tbody tr th:only-of-type {\n",
              "        vertical-align: middle;\n",
              "    }\n",
              "\n",
              "    .dataframe tbody tr th {\n",
              "        vertical-align: top;\n",
              "    }\n",
              "\n",
              "    .dataframe thead th {\n",
              "        text-align: right;\n",
              "    }\n",
              "</style>\n",
              "<table border=\"1\" class=\"dataframe\">\n",
              "  <thead>\n",
              "    <tr style=\"text-align: right;\">\n",
              "      <th></th>\n",
              "      <th>id</th>\n",
              "      <th>Category</th>\n",
              "      <th>name</th>\n",
              "      <th>reviews.rating</th>\n",
              "      <th>reviews.text</th>\n",
              "      <th>sentiment</th>\n",
              "      <th>cleaned_reviews_w/o_SW</th>\n",
              "      <th>cleaned_reviews_with_SW</th>\n",
              "    </tr>\n",
              "  </thead>\n",
              "  <tbody>\n",
              "    <tr>\n",
              "      <th>0</th>\n",
              "      <td>1</td>\n",
              "      <td>Tablet</td>\n",
              "      <td>Fire HD 8 Tablet, 16 GB</td>\n",
              "      <td>5.0</td>\n",
              "      <td>This product so far has not disappointed. My children love to use it and I like the ability to monitor control what content they see with ease.</td>\n",
              "      <td>0.0</td>\n",
              "      <td>this product so far ha not disappointed my child love to use it and i like the ability to monitor control what content they see with ease</td>\n",
              "      <td>this product so far ha not disappointed my child love to use it and i like the ability to monitor control what content they see with ease</td>\n",
              "    </tr>\n",
              "    <tr>\n",
              "      <th>1</th>\n",
              "      <td>2</td>\n",
              "      <td>Tablet</td>\n",
              "      <td>Fire HD 8 Tablet, 16 GB</td>\n",
              "      <td>5.0</td>\n",
              "      <td>great for beginner or experienced person. Bought as a gift and she loves it</td>\n",
              "      <td>0.0</td>\n",
              "      <td>great for beginner or experienced person bought a a gift and she love it</td>\n",
              "      <td>great for beginner or experienced person bought a a gift and she love it</td>\n",
              "    </tr>\n",
              "    <tr>\n",
              "      <th>2</th>\n",
              "      <td>3</td>\n",
              "      <td>Tablet</td>\n",
              "      <td>Fire HD 8 Tablet, 16 GB</td>\n",
              "      <td>5.0</td>\n",
              "      <td>Inexpensive tablet for him to use and learn on, step up from the NABI. He was thrilled with it, learn how to Skype on it already...</td>\n",
              "      <td>0.0</td>\n",
              "      <td>inexpensive tablet for him to use and learn on step up from the nabi he wa thrilled with it learn how to skype on it already</td>\n",
              "      <td>inexpensive tablet for him to use and learn on step up from the nabi he wa thrilled with it learn how to skype on it already</td>\n",
              "    </tr>\n",
              "    <tr>\n",
              "      <th>3</th>\n",
              "      <td>4</td>\n",
              "      <td>Tablet</td>\n",
              "      <td>Fire HD 8 Tablet, 16 GB</td>\n",
              "      <td>4.0</td>\n",
              "      <td>I've had my Fire HD 8 two weeks now and I love it. This tablet is a great value.We are Prime Members and that is where this tablet SHINES. I love being able to easily access all of the Prime conte...</td>\n",
              "      <td>0.0</td>\n",
              "      <td>i have had my fire hd two week now and i love it this tablet is a great value we are prime member and that is where this tablet shine i love being able to easily access all of the prime content a ...</td>\n",
              "      <td>i have had my fire hd two week now and i love it this tablet is a great value we are prime member and that is where this tablet shine i love being able to easily access all of the prime content a ...</td>\n",
              "    </tr>\n",
              "    <tr>\n",
              "      <th>4</th>\n",
              "      <td>5</td>\n",
              "      <td>Tablet</td>\n",
              "      <td>Fire HD 8 Tablet, 16 GB</td>\n",
              "      <td>5.0</td>\n",
              "      <td>I bought this for my grand daughter when she comes over to visit. I set it up with her as the user, entered her age and name and now Amazon makes sure that she only accesses sites and content that...</td>\n",
              "      <td>0.0</td>\n",
              "      <td>i bought this for my grand daughter when she come over to visit i set it up with her a the user entered her age and name and now amazon make sure that she only access site and content that are app...</td>\n",
              "      <td>i bought this for my grand daughter when she come over to visit i set it up with her a the user entered her age and name and now amazon make sure that she only access site and content that are app...</td>\n",
              "    </tr>\n",
              "  </tbody>\n",
              "</table>\n",
              "</div>\n",
              "    <div class=\"colab-df-buttons\">\n",
              "\n",
              "  <div class=\"colab-df-container\">\n",
              "    <button class=\"colab-df-convert\" onclick=\"convertToInteractive('df-b7f25219-4d1b-4413-82f1-bfe2e1449c66')\"\n",
              "            title=\"Convert this dataframe to an interactive table.\"\n",
              "            style=\"display:none;\">\n",
              "\n",
              "  <svg xmlns=\"http://www.w3.org/2000/svg\" height=\"24px\" viewBox=\"0 -960 960 960\">\n",
              "    <path d=\"M120-120v-720h720v720H120Zm60-500h600v-160H180v160Zm220 220h160v-160H400v160Zm0 220h160v-160H400v160ZM180-400h160v-160H180v160Zm440 0h160v-160H620v160ZM180-180h160v-160H180v160Zm440 0h160v-160H620v160Z\"/>\n",
              "  </svg>\n",
              "    </button>\n",
              "\n",
              "  <style>\n",
              "    .colab-df-container {\n",
              "      display:flex;\n",
              "      gap: 12px;\n",
              "    }\n",
              "\n",
              "    .colab-df-convert {\n",
              "      background-color: #E8F0FE;\n",
              "      border: none;\n",
              "      border-radius: 50%;\n",
              "      cursor: pointer;\n",
              "      display: none;\n",
              "      fill: #1967D2;\n",
              "      height: 32px;\n",
              "      padding: 0 0 0 0;\n",
              "      width: 32px;\n",
              "    }\n",
              "\n",
              "    .colab-df-convert:hover {\n",
              "      background-color: #E2EBFA;\n",
              "      box-shadow: 0px 1px 2px rgba(60, 64, 67, 0.3), 0px 1px 3px 1px rgba(60, 64, 67, 0.15);\n",
              "      fill: #174EA6;\n",
              "    }\n",
              "\n",
              "    .colab-df-buttons div {\n",
              "      margin-bottom: 4px;\n",
              "    }\n",
              "\n",
              "    [theme=dark] .colab-df-convert {\n",
              "      background-color: #3B4455;\n",
              "      fill: #D2E3FC;\n",
              "    }\n",
              "\n",
              "    [theme=dark] .colab-df-convert:hover {\n",
              "      background-color: #434B5C;\n",
              "      box-shadow: 0px 1px 3px 1px rgba(0, 0, 0, 0.15);\n",
              "      filter: drop-shadow(0px 1px 2px rgba(0, 0, 0, 0.3));\n",
              "      fill: #FFFFFF;\n",
              "    }\n",
              "  </style>\n",
              "\n",
              "    <script>\n",
              "      const buttonEl =\n",
              "        document.querySelector('#df-b7f25219-4d1b-4413-82f1-bfe2e1449c66 button.colab-df-convert');\n",
              "      buttonEl.style.display =\n",
              "        google.colab.kernel.accessAllowed ? 'block' : 'none';\n",
              "\n",
              "      async function convertToInteractive(key) {\n",
              "        const element = document.querySelector('#df-b7f25219-4d1b-4413-82f1-bfe2e1449c66');\n",
              "        const dataTable =\n",
              "          await google.colab.kernel.invokeFunction('convertToInteractive',\n",
              "                                                    [key], {});\n",
              "        if (!dataTable) return;\n",
              "\n",
              "        const docLinkHtml = 'Like what you see? Visit the ' +\n",
              "          '<a target=\"_blank\" href=https://colab.research.google.com/notebooks/data_table.ipynb>data table notebook</a>'\n",
              "          + ' to learn more about interactive tables.';\n",
              "        element.innerHTML = '';\n",
              "        dataTable['output_type'] = 'display_data';\n",
              "        await google.colab.output.renderOutput(dataTable, element);\n",
              "        const docLink = document.createElement('div');\n",
              "        docLink.innerHTML = docLinkHtml;\n",
              "        element.appendChild(docLink);\n",
              "      }\n",
              "    </script>\n",
              "  </div>\n",
              "\n",
              "\n",
              "<div id=\"df-03d6653d-56af-426f-8448-b04aee42ca90\">\n",
              "  <button class=\"colab-df-quickchart\" onclick=\"quickchart('df-03d6653d-56af-426f-8448-b04aee42ca90')\"\n",
              "            title=\"Suggest charts.\"\n",
              "            style=\"display:none;\">\n",
              "\n",
              "<svg xmlns=\"http://www.w3.org/2000/svg\" height=\"24px\"viewBox=\"0 0 24 24\"\n",
              "     width=\"24px\">\n",
              "    <g>\n",
              "        <path d=\"M19 3H5c-1.1 0-2 .9-2 2v14c0 1.1.9 2 2 2h14c1.1 0 2-.9 2-2V5c0-1.1-.9-2-2-2zM9 17H7v-7h2v7zm4 0h-2V7h2v10zm4 0h-2v-4h2v4z\"/>\n",
              "    </g>\n",
              "</svg>\n",
              "  </button>\n",
              "\n",
              "<style>\n",
              "  .colab-df-quickchart {\n",
              "    background-color: #E8F0FE;\n",
              "    border: none;\n",
              "    border-radius: 50%;\n",
              "    cursor: pointer;\n",
              "    display: none;\n",
              "    fill: #1967D2;\n",
              "    height: 32px;\n",
              "    padding: 0 0 0 0;\n",
              "    width: 32px;\n",
              "  }\n",
              "\n",
              "  .colab-df-quickchart:hover {\n",
              "    background-color: #E2EBFA;\n",
              "    box-shadow: 0px 1px 2px rgba(60, 64, 67, 0.3), 0px 1px 3px 1px rgba(60, 64, 67, 0.15);\n",
              "    fill: #174EA6;\n",
              "  }\n",
              "\n",
              "  [theme=dark] .colab-df-quickchart {\n",
              "    background-color: #3B4455;\n",
              "    fill: #D2E3FC;\n",
              "  }\n",
              "\n",
              "  [theme=dark] .colab-df-quickchart:hover {\n",
              "    background-color: #434B5C;\n",
              "    box-shadow: 0px 1px 3px 1px rgba(0, 0, 0, 0.15);\n",
              "    filter: drop-shadow(0px 1px 2px rgba(0, 0, 0, 0.3));\n",
              "    fill: #FFFFFF;\n",
              "  }\n",
              "</style>\n",
              "\n",
              "  <script>\n",
              "    async function quickchart(key) {\n",
              "      const charts = await google.colab.kernel.invokeFunction(\n",
              "          'suggestCharts', [key], {});\n",
              "    }\n",
              "    (() => {\n",
              "      let quickchartButtonEl =\n",
              "        document.querySelector('#df-03d6653d-56af-426f-8448-b04aee42ca90 button');\n",
              "      quickchartButtonEl.style.display =\n",
              "        google.colab.kernel.accessAllowed ? 'block' : 'none';\n",
              "    })();\n",
              "  </script>\n",
              "</div>\n",
              "    </div>\n",
              "  </div>\n"
            ]
          },
          "metadata": {},
          "execution_count": 50
        }
      ]
    },
    {
      "cell_type": "code",
      "source": [
        "# 4. Bag of Words Model (Feature Extraction)"
      ],
      "metadata": {
        "id": "defCtEji1Dd_"
      },
      "execution_count": null,
      "outputs": []
    },
    {
      "cell_type": "code",
      "source": [
        "#Countvectorizer\n",
        "#TF-IDF Vectorizer"
      ],
      "metadata": {
        "id": "QSV9Y_pM1YAz"
      },
      "execution_count": null,
      "outputs": []
    },
    {
      "cell_type": "code",
      "source": [
        "data.shape"
      ],
      "metadata": {
        "colab": {
          "base_uri": "https://localhost:8080/"
        },
        "id": "J9uyPVHk1oyb",
        "outputId": "007761fb-058b-4d4f-d359-721000d449bc"
      },
      "execution_count": null,
      "outputs": [
        {
          "output_type": "execute_result",
          "data": {
            "text/plain": [
              "(27891, 8)"
            ]
          },
          "metadata": {},
          "execution_count": 53
        }
      ]
    },
    {
      "cell_type": "code",
      "source": [
        "from sklearn.feature_extraction.text import CountVectorizer\n",
        "\n",
        "CV = CountVectorizer()\n",
        "CV_features = CV.fit_transform(data['cleaned_reviews_w/o_SW'])"
      ],
      "metadata": {
        "id": "7sKSAZdY1qHz"
      },
      "execution_count": null,
      "outputs": []
    },
    {
      "cell_type": "code",
      "source": [
        "CV_features.shape"
      ],
      "metadata": {
        "colab": {
          "base_uri": "https://localhost:8080/"
        },
        "id": "rXYjJhD21r1v",
        "outputId": "b299116a-46b0-4c1d-89ad-5c4989ee8ca9"
      },
      "execution_count": null,
      "outputs": [
        {
          "output_type": "execute_result",
          "data": {
            "text/plain": [
              "(27891, 10640)"
            ]
          },
          "metadata": {},
          "execution_count": 55
        }
      ]
    },
    {
      "cell_type": "code",
      "source": [
        "CV_features[0]"
      ],
      "metadata": {
        "colab": {
          "base_uri": "https://localhost:8080/"
        },
        "id": "0oIx9YZS1xV2",
        "outputId": "90059867-4b2d-4713-eec6-a353b9b508e9"
      },
      "execution_count": null,
      "outputs": [
        {
          "output_type": "execute_result",
          "data": {
            "text/plain": [
              "<1x10640 sparse matrix of type '<class 'numpy.int64'>'\n",
              "\twith 25 stored elements in Compressed Sparse Row format>"
            ]
          },
          "metadata": {},
          "execution_count": 56
        }
      ]
    },
    {
      "cell_type": "code",
      "source": [
        "# df = data.copy()\n",
        "# df.columns = ['label', 'cleaned_tweets_incl_SW', 'cleaned_tweets_SW_removed', 'cleaned_tweets_SW_removed_len_gt2']\n",
        "# df.to_pickle('cleaned_tweets.pkl')\n",
        "# df.to_csv('cleaned_tweets', index=False)"
      ],
      "metadata": {
        "id": "cpLMdIck2Crq"
      },
      "execution_count": null,
      "outputs": []
    },
    {
      "cell_type": "code",
      "source": [
        "type(CV_features[0])  # each row is a compressed spare row"
      ],
      "metadata": {
        "colab": {
          "base_uri": "https://localhost:8080/"
        },
        "id": "W2gj4bk11z8m",
        "outputId": "534170c4-1144-4a7e-db7c-8c476c923ec6"
      },
      "execution_count": null,
      "outputs": [
        {
          "output_type": "execute_result",
          "data": {
            "text/plain": [
              "scipy.sparse._csr.csr_matrix"
            ]
          },
          "metadata": {},
          "execution_count": 58
        }
      ]
    },
    {
      "cell_type": "code",
      "source": [
        "CV_features[0].todense()  # decompressing the CSR data"
      ],
      "metadata": {
        "colab": {
          "base_uri": "https://localhost:8080/"
        },
        "id": "QZ0xfVu1143C",
        "outputId": "b8de3565-9541-455b-cb54-1db599caa0b5"
      },
      "execution_count": null,
      "outputs": [
        {
          "output_type": "execute_result",
          "data": {
            "text/plain": [
              "matrix([[0, 0, 0, ..., 0, 0, 0]])"
            ]
          },
          "metadata": {},
          "execution_count": 59
        }
      ]
    },
    {
      "cell_type": "code",
      "source": [
        "import pandas as pd\n",
        "df = pd.DataFrame(CV_features.todense() )\n",
        "df\n",
        "# Document-Term-Matrix X = [N x p ]\n",
        "# N = no. of documentns\n",
        "# p = no. of unique words in the vocab!!# this is your D"
      ],
      "metadata": {
        "colab": {
          "base_uri": "https://localhost:8080/",
          "height": 423
        },
        "id": "WJ-R7TPg17Lq",
        "outputId": "dac613e8-5d28-45db-a067-69b8eb7a1877"
      },
      "execution_count": null,
      "outputs": [
        {
          "output_type": "execute_result",
          "data": {
            "text/plain": [
              "       0      1      2      3      4      5      6      7      8      9      \\\n",
              "0          0      0      0      0      0      0      0      0      1      0   \n",
              "1          0      0      0      0      0      0      0      0      0      0   \n",
              "2          0      0      0      0      0      0      0      0      0      0   \n",
              "3          0      0      0      0      0      0      0      0      0      0   \n",
              "4          0      0      0      0      0      0      0      0      0      0   \n",
              "...      ...    ...    ...    ...    ...    ...    ...    ...    ...    ...   \n",
              "27886      0      0      0      0      0      0      0      0      0      0   \n",
              "27887      0      0      0      0      0      0      0      0      0      0   \n",
              "27888      0      0      0      0      0      0      0      0      0      0   \n",
              "27889      0      0      0      0      0      0      0      0      0      0   \n",
              "27890      0      0      0      0      0      0      0      0      0      0   \n",
              "\n",
              "       ...  10630  10631  10632  10633  10634  10635  10636  10637  10638  \\\n",
              "0      ...      0      0      0      0      0      0      0      0      0   \n",
              "1      ...      0      0      0      0      0      0      0      0      0   \n",
              "2      ...      0      0      0      0      0      0      0      0      0   \n",
              "3      ...      0      0      0      0      0      0      0      0      0   \n",
              "4      ...      0      0      0      0      0      0      0      0      0   \n",
              "...    ...    ...    ...    ...    ...    ...    ...    ...    ...    ...   \n",
              "27886  ...      0      0      0      0      0      0      0      0      0   \n",
              "27887  ...      0      0      0      0      0      0      0      0      0   \n",
              "27888  ...      0      0      0      0      0      0      0      0      0   \n",
              "27889  ...      0      0      0      0      0      0      0      0      0   \n",
              "27890  ...      0      0      0      0      0      0      0      0      0   \n",
              "\n",
              "       10639  \n",
              "0          0  \n",
              "1          0  \n",
              "2          0  \n",
              "3          0  \n",
              "4          0  \n",
              "...      ...  \n",
              "27886      0  \n",
              "27887      0  \n",
              "27888      0  \n",
              "27889      0  \n",
              "27890      0  \n",
              "\n",
              "[27891 rows x 10640 columns]"
            ],
            "text/html": [
              "\n",
              "  <div id=\"df-918f5f0d-438b-4060-9a34-2588f32726a3\" class=\"colab-df-container\">\n",
              "    <div>\n",
              "<style scoped>\n",
              "    .dataframe tbody tr th:only-of-type {\n",
              "        vertical-align: middle;\n",
              "    }\n",
              "\n",
              "    .dataframe tbody tr th {\n",
              "        vertical-align: top;\n",
              "    }\n",
              "\n",
              "    .dataframe thead th {\n",
              "        text-align: right;\n",
              "    }\n",
              "</style>\n",
              "<table border=\"1\" class=\"dataframe\">\n",
              "  <thead>\n",
              "    <tr style=\"text-align: right;\">\n",
              "      <th></th>\n",
              "      <th>0</th>\n",
              "      <th>1</th>\n",
              "      <th>2</th>\n",
              "      <th>3</th>\n",
              "      <th>4</th>\n",
              "      <th>5</th>\n",
              "      <th>6</th>\n",
              "      <th>7</th>\n",
              "      <th>8</th>\n",
              "      <th>9</th>\n",
              "      <th>...</th>\n",
              "      <th>10630</th>\n",
              "      <th>10631</th>\n",
              "      <th>10632</th>\n",
              "      <th>10633</th>\n",
              "      <th>10634</th>\n",
              "      <th>10635</th>\n",
              "      <th>10636</th>\n",
              "      <th>10637</th>\n",
              "      <th>10638</th>\n",
              "      <th>10639</th>\n",
              "    </tr>\n",
              "  </thead>\n",
              "  <tbody>\n",
              "    <tr>\n",
              "      <th>0</th>\n",
              "      <td>0</td>\n",
              "      <td>0</td>\n",
              "      <td>0</td>\n",
              "      <td>0</td>\n",
              "      <td>0</td>\n",
              "      <td>0</td>\n",
              "      <td>0</td>\n",
              "      <td>0</td>\n",
              "      <td>1</td>\n",
              "      <td>0</td>\n",
              "      <td>...</td>\n",
              "      <td>0</td>\n",
              "      <td>0</td>\n",
              "      <td>0</td>\n",
              "      <td>0</td>\n",
              "      <td>0</td>\n",
              "      <td>0</td>\n",
              "      <td>0</td>\n",
              "      <td>0</td>\n",
              "      <td>0</td>\n",
              "      <td>0</td>\n",
              "    </tr>\n",
              "    <tr>\n",
              "      <th>1</th>\n",
              "      <td>0</td>\n",
              "      <td>0</td>\n",
              "      <td>0</td>\n",
              "      <td>0</td>\n",
              "      <td>0</td>\n",
              "      <td>0</td>\n",
              "      <td>0</td>\n",
              "      <td>0</td>\n",
              "      <td>0</td>\n",
              "      <td>0</td>\n",
              "      <td>...</td>\n",
              "      <td>0</td>\n",
              "      <td>0</td>\n",
              "      <td>0</td>\n",
              "      <td>0</td>\n",
              "      <td>0</td>\n",
              "      <td>0</td>\n",
              "      <td>0</td>\n",
              "      <td>0</td>\n",
              "      <td>0</td>\n",
              "      <td>0</td>\n",
              "    </tr>\n",
              "    <tr>\n",
              "      <th>2</th>\n",
              "      <td>0</td>\n",
              "      <td>0</td>\n",
              "      <td>0</td>\n",
              "      <td>0</td>\n",
              "      <td>0</td>\n",
              "      <td>0</td>\n",
              "      <td>0</td>\n",
              "      <td>0</td>\n",
              "      <td>0</td>\n",
              "      <td>0</td>\n",
              "      <td>...</td>\n",
              "      <td>0</td>\n",
              "      <td>0</td>\n",
              "      <td>0</td>\n",
              "      <td>0</td>\n",
              "      <td>0</td>\n",
              "      <td>0</td>\n",
              "      <td>0</td>\n",
              "      <td>0</td>\n",
              "      <td>0</td>\n",
              "      <td>0</td>\n",
              "    </tr>\n",
              "    <tr>\n",
              "      <th>3</th>\n",
              "      <td>0</td>\n",
              "      <td>0</td>\n",
              "      <td>0</td>\n",
              "      <td>0</td>\n",
              "      <td>0</td>\n",
              "      <td>0</td>\n",
              "      <td>0</td>\n",
              "      <td>0</td>\n",
              "      <td>0</td>\n",
              "      <td>0</td>\n",
              "      <td>...</td>\n",
              "      <td>0</td>\n",
              "      <td>0</td>\n",
              "      <td>0</td>\n",
              "      <td>0</td>\n",
              "      <td>0</td>\n",
              "      <td>0</td>\n",
              "      <td>0</td>\n",
              "      <td>0</td>\n",
              "      <td>0</td>\n",
              "      <td>0</td>\n",
              "    </tr>\n",
              "    <tr>\n",
              "      <th>4</th>\n",
              "      <td>0</td>\n",
              "      <td>0</td>\n",
              "      <td>0</td>\n",
              "      <td>0</td>\n",
              "      <td>0</td>\n",
              "      <td>0</td>\n",
              "      <td>0</td>\n",
              "      <td>0</td>\n",
              "      <td>0</td>\n",
              "      <td>0</td>\n",
              "      <td>...</td>\n",
              "      <td>0</td>\n",
              "      <td>0</td>\n",
              "      <td>0</td>\n",
              "      <td>0</td>\n",
              "      <td>0</td>\n",
              "      <td>0</td>\n",
              "      <td>0</td>\n",
              "      <td>0</td>\n",
              "      <td>0</td>\n",
              "      <td>0</td>\n",
              "    </tr>\n",
              "    <tr>\n",
              "      <th>...</th>\n",
              "      <td>...</td>\n",
              "      <td>...</td>\n",
              "      <td>...</td>\n",
              "      <td>...</td>\n",
              "      <td>...</td>\n",
              "      <td>...</td>\n",
              "      <td>...</td>\n",
              "      <td>...</td>\n",
              "      <td>...</td>\n",
              "      <td>...</td>\n",
              "      <td>...</td>\n",
              "      <td>...</td>\n",
              "      <td>...</td>\n",
              "      <td>...</td>\n",
              "      <td>...</td>\n",
              "      <td>...</td>\n",
              "      <td>...</td>\n",
              "      <td>...</td>\n",
              "      <td>...</td>\n",
              "      <td>...</td>\n",
              "      <td>...</td>\n",
              "    </tr>\n",
              "    <tr>\n",
              "      <th>27886</th>\n",
              "      <td>0</td>\n",
              "      <td>0</td>\n",
              "      <td>0</td>\n",
              "      <td>0</td>\n",
              "      <td>0</td>\n",
              "      <td>0</td>\n",
              "      <td>0</td>\n",
              "      <td>0</td>\n",
              "      <td>0</td>\n",
              "      <td>0</td>\n",
              "      <td>...</td>\n",
              "      <td>0</td>\n",
              "      <td>0</td>\n",
              "      <td>0</td>\n",
              "      <td>0</td>\n",
              "      <td>0</td>\n",
              "      <td>0</td>\n",
              "      <td>0</td>\n",
              "      <td>0</td>\n",
              "      <td>0</td>\n",
              "      <td>0</td>\n",
              "    </tr>\n",
              "    <tr>\n",
              "      <th>27887</th>\n",
              "      <td>0</td>\n",
              "      <td>0</td>\n",
              "      <td>0</td>\n",
              "      <td>0</td>\n",
              "      <td>0</td>\n",
              "      <td>0</td>\n",
              "      <td>0</td>\n",
              "      <td>0</td>\n",
              "      <td>0</td>\n",
              "      <td>0</td>\n",
              "      <td>...</td>\n",
              "      <td>0</td>\n",
              "      <td>0</td>\n",
              "      <td>0</td>\n",
              "      <td>0</td>\n",
              "      <td>0</td>\n",
              "      <td>0</td>\n",
              "      <td>0</td>\n",
              "      <td>0</td>\n",
              "      <td>0</td>\n",
              "      <td>0</td>\n",
              "    </tr>\n",
              "    <tr>\n",
              "      <th>27888</th>\n",
              "      <td>0</td>\n",
              "      <td>0</td>\n",
              "      <td>0</td>\n",
              "      <td>0</td>\n",
              "      <td>0</td>\n",
              "      <td>0</td>\n",
              "      <td>0</td>\n",
              "      <td>0</td>\n",
              "      <td>0</td>\n",
              "      <td>0</td>\n",
              "      <td>...</td>\n",
              "      <td>0</td>\n",
              "      <td>0</td>\n",
              "      <td>0</td>\n",
              "      <td>0</td>\n",
              "      <td>0</td>\n",
              "      <td>0</td>\n",
              "      <td>0</td>\n",
              "      <td>0</td>\n",
              "      <td>0</td>\n",
              "      <td>0</td>\n",
              "    </tr>\n",
              "    <tr>\n",
              "      <th>27889</th>\n",
              "      <td>0</td>\n",
              "      <td>0</td>\n",
              "      <td>0</td>\n",
              "      <td>0</td>\n",
              "      <td>0</td>\n",
              "      <td>0</td>\n",
              "      <td>0</td>\n",
              "      <td>0</td>\n",
              "      <td>0</td>\n",
              "      <td>0</td>\n",
              "      <td>...</td>\n",
              "      <td>0</td>\n",
              "      <td>0</td>\n",
              "      <td>0</td>\n",
              "      <td>0</td>\n",
              "      <td>0</td>\n",
              "      <td>0</td>\n",
              "      <td>0</td>\n",
              "      <td>0</td>\n",
              "      <td>0</td>\n",
              "      <td>0</td>\n",
              "    </tr>\n",
              "    <tr>\n",
              "      <th>27890</th>\n",
              "      <td>0</td>\n",
              "      <td>0</td>\n",
              "      <td>0</td>\n",
              "      <td>0</td>\n",
              "      <td>0</td>\n",
              "      <td>0</td>\n",
              "      <td>0</td>\n",
              "      <td>0</td>\n",
              "      <td>0</td>\n",
              "      <td>0</td>\n",
              "      <td>...</td>\n",
              "      <td>0</td>\n",
              "      <td>0</td>\n",
              "      <td>0</td>\n",
              "      <td>0</td>\n",
              "      <td>0</td>\n",
              "      <td>0</td>\n",
              "      <td>0</td>\n",
              "      <td>0</td>\n",
              "      <td>0</td>\n",
              "      <td>0</td>\n",
              "    </tr>\n",
              "  </tbody>\n",
              "</table>\n",
              "<p>27891 rows × 10640 columns</p>\n",
              "</div>\n",
              "    <div class=\"colab-df-buttons\">\n",
              "\n",
              "  <div class=\"colab-df-container\">\n",
              "    <button class=\"colab-df-convert\" onclick=\"convertToInteractive('df-918f5f0d-438b-4060-9a34-2588f32726a3')\"\n",
              "            title=\"Convert this dataframe to an interactive table.\"\n",
              "            style=\"display:none;\">\n",
              "\n",
              "  <svg xmlns=\"http://www.w3.org/2000/svg\" height=\"24px\" viewBox=\"0 -960 960 960\">\n",
              "    <path d=\"M120-120v-720h720v720H120Zm60-500h600v-160H180v160Zm220 220h160v-160H400v160Zm0 220h160v-160H400v160ZM180-400h160v-160H180v160Zm440 0h160v-160H620v160ZM180-180h160v-160H180v160Zm440 0h160v-160H620v160Z\"/>\n",
              "  </svg>\n",
              "    </button>\n",
              "\n",
              "  <style>\n",
              "    .colab-df-container {\n",
              "      display:flex;\n",
              "      gap: 12px;\n",
              "    }\n",
              "\n",
              "    .colab-df-convert {\n",
              "      background-color: #E8F0FE;\n",
              "      border: none;\n",
              "      border-radius: 50%;\n",
              "      cursor: pointer;\n",
              "      display: none;\n",
              "      fill: #1967D2;\n",
              "      height: 32px;\n",
              "      padding: 0 0 0 0;\n",
              "      width: 32px;\n",
              "    }\n",
              "\n",
              "    .colab-df-convert:hover {\n",
              "      background-color: #E2EBFA;\n",
              "      box-shadow: 0px 1px 2px rgba(60, 64, 67, 0.3), 0px 1px 3px 1px rgba(60, 64, 67, 0.15);\n",
              "      fill: #174EA6;\n",
              "    }\n",
              "\n",
              "    .colab-df-buttons div {\n",
              "      margin-bottom: 4px;\n",
              "    }\n",
              "\n",
              "    [theme=dark] .colab-df-convert {\n",
              "      background-color: #3B4455;\n",
              "      fill: #D2E3FC;\n",
              "    }\n",
              "\n",
              "    [theme=dark] .colab-df-convert:hover {\n",
              "      background-color: #434B5C;\n",
              "      box-shadow: 0px 1px 3px 1px rgba(0, 0, 0, 0.15);\n",
              "      filter: drop-shadow(0px 1px 2px rgba(0, 0, 0, 0.3));\n",
              "      fill: #FFFFFF;\n",
              "    }\n",
              "  </style>\n",
              "\n",
              "    <script>\n",
              "      const buttonEl =\n",
              "        document.querySelector('#df-918f5f0d-438b-4060-9a34-2588f32726a3 button.colab-df-convert');\n",
              "      buttonEl.style.display =\n",
              "        google.colab.kernel.accessAllowed ? 'block' : 'none';\n",
              "\n",
              "      async function convertToInteractive(key) {\n",
              "        const element = document.querySelector('#df-918f5f0d-438b-4060-9a34-2588f32726a3');\n",
              "        const dataTable =\n",
              "          await google.colab.kernel.invokeFunction('convertToInteractive',\n",
              "                                                    [key], {});\n",
              "        if (!dataTable) return;\n",
              "\n",
              "        const docLinkHtml = 'Like what you see? Visit the ' +\n",
              "          '<a target=\"_blank\" href=https://colab.research.google.com/notebooks/data_table.ipynb>data table notebook</a>'\n",
              "          + ' to learn more about interactive tables.';\n",
              "        element.innerHTML = '';\n",
              "        dataTable['output_type'] = 'display_data';\n",
              "        await google.colab.output.renderOutput(dataTable, element);\n",
              "        const docLink = document.createElement('div');\n",
              "        docLink.innerHTML = docLinkHtml;\n",
              "        element.appendChild(docLink);\n",
              "      }\n",
              "    </script>\n",
              "  </div>\n",
              "\n",
              "\n",
              "<div id=\"df-8026b142-d463-402f-a591-1b6370f8a83c\">\n",
              "  <button class=\"colab-df-quickchart\" onclick=\"quickchart('df-8026b142-d463-402f-a591-1b6370f8a83c')\"\n",
              "            title=\"Suggest charts.\"\n",
              "            style=\"display:none;\">\n",
              "\n",
              "<svg xmlns=\"http://www.w3.org/2000/svg\" height=\"24px\"viewBox=\"0 0 24 24\"\n",
              "     width=\"24px\">\n",
              "    <g>\n",
              "        <path d=\"M19 3H5c-1.1 0-2 .9-2 2v14c0 1.1.9 2 2 2h14c1.1 0 2-.9 2-2V5c0-1.1-.9-2-2-2zM9 17H7v-7h2v7zm4 0h-2V7h2v10zm4 0h-2v-4h2v4z\"/>\n",
              "    </g>\n",
              "</svg>\n",
              "  </button>\n",
              "\n",
              "<style>\n",
              "  .colab-df-quickchart {\n",
              "    background-color: #E8F0FE;\n",
              "    border: none;\n",
              "    border-radius: 50%;\n",
              "    cursor: pointer;\n",
              "    display: none;\n",
              "    fill: #1967D2;\n",
              "    height: 32px;\n",
              "    padding: 0 0 0 0;\n",
              "    width: 32px;\n",
              "  }\n",
              "\n",
              "  .colab-df-quickchart:hover {\n",
              "    background-color: #E2EBFA;\n",
              "    box-shadow: 0px 1px 2px rgba(60, 64, 67, 0.3), 0px 1px 3px 1px rgba(60, 64, 67, 0.15);\n",
              "    fill: #174EA6;\n",
              "  }\n",
              "\n",
              "  [theme=dark] .colab-df-quickchart {\n",
              "    background-color: #3B4455;\n",
              "    fill: #D2E3FC;\n",
              "  }\n",
              "\n",
              "  [theme=dark] .colab-df-quickchart:hover {\n",
              "    background-color: #434B5C;\n",
              "    box-shadow: 0px 1px 3px 1px rgba(0, 0, 0, 0.15);\n",
              "    filter: drop-shadow(0px 1px 2px rgba(0, 0, 0, 0.3));\n",
              "    fill: #FFFFFF;\n",
              "  }\n",
              "</style>\n",
              "\n",
              "  <script>\n",
              "    async function quickchart(key) {\n",
              "      const charts = await google.colab.kernel.invokeFunction(\n",
              "          'suggestCharts', [key], {});\n",
              "    }\n",
              "    (() => {\n",
              "      let quickchartButtonEl =\n",
              "        document.querySelector('#df-8026b142-d463-402f-a591-1b6370f8a83c button');\n",
              "      quickchartButtonEl.style.display =\n",
              "        google.colab.kernel.accessAllowed ? 'block' : 'none';\n",
              "    })();\n",
              "  </script>\n",
              "</div>\n",
              "    </div>\n",
              "  </div>\n"
            ]
          },
          "metadata": {},
          "execution_count": 60
        }
      ]
    },
    {
      "cell_type": "code",
      "source": [
        "df.size/1e6  # these many elements/numbers are presnt in the df"
      ],
      "metadata": {
        "colab": {
          "base_uri": "https://localhost:8080/"
        },
        "id": "YfZd5Ztu2HjS",
        "outputId": "897699bc-2d2f-4ef5-94a9-81cd46d2db9f"
      },
      "execution_count": null,
      "outputs": [
        {
          "output_type": "execute_result",
          "data": {
            "text/plain": [
              "296.76024"
            ]
          },
          "metadata": {},
          "execution_count": 61
        }
      ]
    },
    {
      "cell_type": "code",
      "source": [
        "import numpy as np\n",
        "np.count_nonzero(df)"
      ],
      "metadata": {
        "colab": {
          "base_uri": "https://localhost:8080/"
        },
        "id": "h1eE0agK2Jf6",
        "outputId": "1ccd29b0-ee70-40a2-bc96-30843d5837f0"
      },
      "execution_count": null,
      "outputs": [
        {
          "output_type": "execute_result",
          "data": {
            "text/plain": [
              "648545"
            ]
          },
          "metadata": {},
          "execution_count": 62
        }
      ]
    },
    {
      "cell_type": "code",
      "source": [
        "100*np.count_nonzero(df)/df.size # percent of the non-zero elements i nthe df"
      ],
      "metadata": {
        "colab": {
          "base_uri": "https://localhost:8080/"
        },
        "id": "T7uTJqpi2K6C",
        "outputId": "6da8726f-71eb-4d4b-d5a6-6cc7997bbf76"
      },
      "execution_count": null,
      "outputs": [
        {
          "output_type": "execute_result",
          "data": {
            "text/plain": [
              "0.21854174265393503"
            ]
          },
          "metadata": {},
          "execution_count": 63
        }
      ]
    },
    {
      "cell_type": "code",
      "source": [
        "print(CV.get_feature_names_out()[:50])  # these the vocab words"
      ],
      "metadata": {
        "colab": {
          "base_uri": "https://localhost:8080/"
        },
        "id": "e1ZkoCrg2MaO",
        "outputId": "bdc6aa14-57a0-4a8c-ae14-196f5fc723c8"
      },
      "execution_count": null,
      "outputs": [
        {
          "output_type": "stream",
          "name": "stdout",
          "text": [
            "['aa' 'aaa' 'aamazon' 'abandon' 'abandoned' 'abc' 'abcmouse' 'abd'\n",
            " 'ability' 'abilty' 'abit' 'abke' 'able' 'abnormal' 'abode' 'abook'\n",
            " 'abound' 'abount' 'about' 'above' 'abroad' 'abruptly' 'absence'\n",
            " 'absofbing' 'absoluitely' 'absolute' 'absolutely' 'absolutly' 'absorbs'\n",
            " 'abundance' 'abundant' 'abuse' 'ac' 'academic' 'acc' 'accedently'\n",
            " 'accelerometer' 'accent' 'accept' 'acceptable' 'acceptance' 'accepted'\n",
            " 'accepting' 'accepts' 'acceries' 'acces' 'accesible' 'accesory' 'access'\n",
            " 'accessability']\n"
          ]
        }
      ]
    },
    {
      "cell_type": "code",
      "source": [
        "CV.get_feature_names_out()[:50]  # these the vocab words"
      ],
      "metadata": {
        "colab": {
          "base_uri": "https://localhost:8080/"
        },
        "id": "W5weSQwV2eyo",
        "outputId": "b88df180-c973-4004-c226-7ace7681ce91"
      },
      "execution_count": null,
      "outputs": [
        {
          "output_type": "execute_result",
          "data": {
            "text/plain": [
              "array(['aa', 'aaa', 'aamazon', 'abandon', 'abandoned', 'abc', 'abcmouse',\n",
              "       'abd', 'ability', 'abilty', 'abit', 'abke', 'able', 'abnormal',\n",
              "       'abode', 'abook', 'abound', 'abount', 'about', 'above', 'abroad',\n",
              "       'abruptly', 'absence', 'absofbing', 'absoluitely', 'absolute',\n",
              "       'absolutely', 'absolutly', 'absorbs', 'abundance', 'abundant',\n",
              "       'abuse', 'ac', 'academic', 'acc', 'accedently', 'accelerometer',\n",
              "       'accent', 'accept', 'acceptable', 'acceptance', 'accepted',\n",
              "       'accepting', 'accepts', 'acceries', 'acces', 'accesible',\n",
              "       'accesory', 'access', 'accessability'], dtype=object)"
            ]
          },
          "metadata": {},
          "execution_count": 65
        }
      ]
    },
    {
      "cell_type": "code",
      "source": [
        "# len(CV.get_feature_names_out())\n",
        "len(CV.get_feature_names_out())"
      ],
      "metadata": {
        "colab": {
          "base_uri": "https://localhost:8080/"
        },
        "id": "WPWWlLir2OKW",
        "outputId": "658c5aef-11ea-4a16-ed04-3111775aff49"
      },
      "execution_count": null,
      "outputs": [
        {
          "output_type": "execute_result",
          "data": {
            "text/plain": [
              "10640"
            ]
          },
          "metadata": {},
          "execution_count": 66
        }
      ]
    },
    {
      "cell_type": "code",
      "source": [
        "\n",
        "CV_features[10].todense()  # these are numbers corresponding to the 11th tweet"
      ],
      "metadata": {
        "colab": {
          "base_uri": "https://localhost:8080/"
        },
        "id": "2gogxHkv2ZES",
        "outputId": "2f6b0e3c-a29d-4de9-aea3-9e36436d0535"
      },
      "execution_count": null,
      "outputs": [
        {
          "output_type": "execute_result",
          "data": {
            "text/plain": [
              "matrix([[0, 0, 0, ..., 0, 0, 0]])"
            ]
          },
          "metadata": {},
          "execution_count": 67
        }
      ]
    },
    {
      "cell_type": "code",
      "source": [
        "CV.inverse_transform(np.asarray(CV_features[10].todense()))  # actual words in the 10th tweet"
      ],
      "metadata": {
        "colab": {
          "base_uri": "https://localhost:8080/"
        },
        "id": "q25qutEd3AYZ",
        "outputId": "85725d8b-ba50-465c-9952-e0a3bb1c9f39"
      },
      "execution_count": null,
      "outputs": [
        {
          "output_type": "execute_result",
          "data": {
            "text/plain": [
              "[array(['ad', 'cease', 'easy', 'elderly', 'for', 'not', 'of', 'pop',\n",
              "        'that', 'up', 'user'], dtype='<U51')]"
            ]
          },
          "metadata": {},
          "execution_count": 68
        }
      ]
    },
    {
      "cell_type": "code",
      "source": [
        "# 5. Model building"
      ],
      "metadata": {
        "id": "o0-3-Bza3DXB"
      },
      "execution_count": null,
      "outputs": []
    },
    {
      "cell_type": "code",
      "source": [
        "from sklearn.model_selection import train_test_split\n",
        "\n",
        "# Split the dataset without using the stratify parameter\n",
        "X_train, X_test, y_train, y_test = train_test_split(\n",
        "    CV_features, data['reviews.text'], test_size=0.25, random_state=42\n",
        ")\n"
      ],
      "metadata": {
        "id": "0_4LTFoG3Gxf"
      },
      "execution_count": null,
      "outputs": []
    },
    {
      "cell_type": "code",
      "source": [
        "from sklearn.linear_model import LogisticRegression\n",
        "LR = LogisticRegression(solver='liblinear')\n",
        "LR.fit(X_train, y_train)\n",
        "\n",
        "print(LR.score(X_train, y_train))  # train score)\n",
        "print(LR.score(X_test, y_test))   # test score)"
      ],
      "metadata": {
        "id": "5KA2lgpB3Oyh"
      },
      "execution_count": null,
      "outputs": []
    },
    {
      "cell_type": "code",
      "source": [
        "## L1-REGULARIZATION\n",
        "LR1 = LogisticRegression(class_weight='balanced', solver='liblinear', penalty='l1', C=0.4)\n",
        "LR1.fit(X_train, y_train)\n",
        "\n",
        "print(LR1.score(X_train, y_train))  # train score)\n",
        "print(LR1.score(X_test, y_test))   # test score)"
      ],
      "metadata": {
        "id": "wBK4tnRz3kNI"
      },
      "execution_count": null,
      "outputs": []
    },
    {
      "cell_type": "code",
      "source": [
        "## leT'S Cross-Validate the Logistic Regression Model ?????\n",
        "from sklearn.model_selection import cross_val_score, cross_validate\n",
        "from sklearn.model_selection import StratifiedKFold"
      ],
      "metadata": {
        "id": "ih-3VWGQ3o_g"
      },
      "execution_count": null,
      "outputs": []
    },
    {
      "cell_type": "code",
      "source": [
        "X = CV_features\n",
        "y = data['reviews.text']"
      ],
      "metadata": {
        "id": "VUI3axFh3pC2"
      },
      "execution_count": null,
      "outputs": []
    },
    {
      "cell_type": "code",
      "source": [
        "## crOSS VALIDATE THE LR1 model\n",
        "\n",
        "LR1 = LogisticRegression(class_weight='balanced', solver='liblinear', penalty='l1', C=0.4)\n",
        "kfold = StratifiedKFold(n_splits=5, shuffle=True, random_state=42)\n",
        "results = cross_val_score(LR1, X, y, cv=kfold, scoring='accuracy')\n",
        "print(results)\n",
        "print(np.round((results.mean())*100, 2), np.round((results.std())*100, 2))"
      ],
      "metadata": {
        "id": "-JXg8foW3r0y"
      },
      "execution_count": null,
      "outputs": []
    },
    {
      "cell_type": "code",
      "source": [
        "kfold = StratifiedKFold(n_splits=5, shuffle=True, random_state=42)\n",
        "results = cross_validate(LR1, X, y, cv=kfold, scoring='accuracy', return_train_score=True)"
      ],
      "metadata": {
        "id": "Ab_sTnHu3r3M"
      },
      "execution_count": null,
      "outputs": []
    },
    {
      "cell_type": "code",
      "source": [
        "results"
      ],
      "metadata": {
        "id": "9bkJLI603r6v"
      },
      "execution_count": null,
      "outputs": []
    },
    {
      "cell_type": "code",
      "source": [
        "\n",
        "print(results['train_score'])\n",
        "print(np.round((results['train_score'].mean())*100, 2), np.round((results['train_score'].std())*100, 2))"
      ],
      "metadata": {
        "id": "wjILWYAG33dG"
      },
      "execution_count": null,
      "outputs": []
    },
    {
      "cell_type": "code",
      "source": [
        "print(results['test_score'])\n",
        "print(np.round((results['test_score'].mean())*100, 2), np.round((results['test_score'].std())*100, 2))"
      ],
      "metadata": {
        "id": "ozJwSioK33fR"
      },
      "execution_count": null,
      "outputs": []
    },
    {
      "cell_type": "code",
      "source": [],
      "metadata": {
        "id": "huuTtNAP33hu"
      },
      "execution_count": null,
      "outputs": []
    },
    {
      "cell_type": "code",
      "source": [
        "#Hyper parameter tuning of the LR1 model\n",
        "## Hyper parameter tuning of the LR1 model\n",
        "from sklearn.model_selection import GridSearchCV\n",
        "\n",
        "LR1 = LogisticRegression(class_weight='balanced', solver='liblinear', penalty='l1')\n",
        "\n",
        "C_values = np.arange(0.00001, 1, 0.05) # 20 values\n",
        "\n",
        "grid = GridSearchCV(estimator=LR1, param_grid={'C': C_values}, cv=kfold, scoring='accuracy', \\\n",
        "                    return_train_score=True, verbose=2, n_jobs=-1)\n",
        "grid_results = grid.fit(X,y)"
      ],
      "metadata": {
        "id": "V8g4hCgr33kE"
      },
      "execution_count": null,
      "outputs": []
    },
    {
      "cell_type": "code",
      "source": [
        "grid_results"
      ],
      "metadata": {
        "id": "1MsbHsZZ33ng"
      },
      "execution_count": null,
      "outputs": []
    },
    {
      "cell_type": "code",
      "source": [
        "grid_results.best_params_, grid_results.best_score_, grid_results.best_index_"
      ],
      "metadata": {
        "id": "i0Yx59S5AUP1"
      },
      "execution_count": null,
      "outputs": []
    },
    {
      "cell_type": "code",
      "source": [
        "\n",
        "grid_results.cv_results_.keys()"
      ],
      "metadata": {
        "id": "OL-8uGFvAUyA"
      },
      "execution_count": null,
      "outputs": []
    },
    {
      "cell_type": "code",
      "source": [
        "grid_results.cv_results_['mean_test_score'][grid_results.best_index_]*100"
      ],
      "metadata": {
        "id": "-LS91YZUAWb5"
      },
      "execution_count": null,
      "outputs": []
    },
    {
      "cell_type": "code",
      "source": [
        "grid_results.cv_results_['mean_train_score'][grid_results.best_index_]*100\n",
        "\n",
        "# means your \"best-fitted\" model from GridsearchCV is (could be) still OVERFITTED!!!!!!!!!"
      ],
      "metadata": {
        "id": "zgakoVqnAY2F"
      },
      "execution_count": null,
      "outputs": []
    },
    {
      "cell_type": "code",
      "source": [
        "\n",
        "grid_results.cv_results_['std_test_score'][grid_results.best_index_]*100"
      ],
      "metadata": {
        "id": "DnBwMk_rAawV"
      },
      "execution_count": null,
      "outputs": []
    },
    {
      "cell_type": "code",
      "source": [
        "\n",
        "grid_results.cv_results_['mean_test_score']"
      ],
      "metadata": {
        "id": "DssqpchdAd_1"
      },
      "execution_count": null,
      "outputs": []
    },
    {
      "cell_type": "code",
      "source": [
        "grid_results.cv_results_['mean_train_score']"
      ],
      "metadata": {
        "id": "ywdjvvvpAgKt"
      },
      "execution_count": null,
      "outputs": []
    },
    {
      "cell_type": "code",
      "source": [
        "plt.plot(grid_results.cv_results_['mean_train_score'] - grid_results.cv_results_['mean_test_score'])"
      ],
      "metadata": {
        "id": "ywGzbl1SAiDw"
      },
      "execution_count": null,
      "outputs": []
    },
    {
      "cell_type": "code",
      "source": [
        "\n",
        "grid_results.param_grid"
      ],
      "metadata": {
        "id": "5pANWsE3Aj1U"
      },
      "execution_count": null,
      "outputs": []
    },
    {
      "cell_type": "code",
      "source": [
        "# Create a pipeline & cross-validate\n",
        "from sklearn.pipeline import make_pipeline, Pipeline\n",
        "\n",
        "X = data['cleaned_reviews_w/o_SW']\n",
        "y = data['label']\n",
        "\n",
        "CV = CountVectorizer()\n",
        "LR1 = LogisticRegression(class_weight='balanced', solver='liblinear', penalty='l1', C=0.4)\n",
        "\n",
        "CV_pipe = Pipeline([('CV', CV) , ('LR', LR1)] )\n",
        "\n",
        "results = cross_val_score(CV_pipe, X, y, cv=kfold, scoring='accuracy')\n",
        "print(np.round((results.mean())*100, 2), np.round((results.std())*100, 2))"
      ],
      "metadata": {
        "id": "WiviNrdtAlZQ"
      },
      "execution_count": null,
      "outputs": []
    },
    {
      "cell_type": "code",
      "source": [
        "CV_pipe.named_steps\n"
      ],
      "metadata": {
        "id": "7KkbFtDfApNZ"
      },
      "execution_count": null,
      "outputs": []
    },
    {
      "cell_type": "code",
      "source": [
        "CV_pipe.fit(X,y)|"
      ],
      "metadata": {
        "id": "7K12kZyxAx2J"
      },
      "execution_count": null,
      "outputs": []
    },
    {
      "cell_type": "code",
      "source": [
        "len(CV_pipe['CV'].vocabulary_)  # CV with stopwords applied already & word_len > 2"
      ],
      "metadata": {
        "id": "hW85-OBNAzn2"
      },
      "execution_count": null,
      "outputs": []
    },
    {
      "cell_type": "code",
      "source": [
        "# Create a pipeline & cross-validate\n",
        "from sklearn.pipeline import make_pipeline, Pipeline\n",
        "\n",
        "X = data['cleaned_reviews_w/o_SW']\n",
        "y = data['label']\n",
        "\n",
        "CV = CountVectorizer(stop_words=final_stopwords, min_df=10, max_features=300)\n",
        "LR1 = LogisticRegression(class_weight='balanced', solver='liblinear', penalty='l1', C=0.4)\n",
        "\n",
        "CV_pipe = Pipeline([('CV', CV) , ('LR', LR1)] )\n",
        "\n",
        "results = cross_val_score(CV_pipe, X, y, cv=kfold, scoring='accuracy')\n",
        "print(np.round((results.mean())*100, 2), np.round((results.std())*100, 2))\n",
        "\n",
        "CV_pipe.fit(X,y)\n",
        "len(CV_pipe['CV'].vocabulary_)"
      ],
      "metadata": {
        "id": "yX5EqFWGA2kJ"
      },
      "execution_count": null,
      "outputs": []
    },
    {
      "cell_type": "code",
      "source": [
        "#7. TF-IDF Vector BoW Model + Logistic Regression\n",
        "doc1 = 'I love cooking'\n",
        "doc2 = 'Today I cooked pasta today'"
      ],
      "metadata": {
        "id": "b7doJYCgBKnB"
      },
      "execution_count": null,
      "outputs": []
    },
    {
      "cell_type": "code",
      "source": [
        "from sklearn.feature_extraction.text import TfidfVectorizer\n",
        "X = data['cleaned_reviews_w/o_SW']\n",
        "y = data['reviews.text']\n",
        "\n",
        "# we want to include only those words in the vocab which have min df of 5,\n",
        "# means select only those words which occur ATLEAST in 5 documents!!\n",
        "# AND SELECT the TOP 1000 FEATURES ONLY to build the model\n",
        "TFIDF = TfidfVectorizer(stop_words=final_stopwords,  min_df=5, max_features=1000)\n",
        "\n",
        "LR1 = LogisticRegression(class_weight='balanced', solver='liblinear', penalty='l1', C=0.4)\n",
        "CV_pipe = Pipeline([('TFIDF', TFIDF) , ('LR', LR1)] )\n",
        "results = cross_validate(CV_pipe, X, y, cv=kfold, scoring='accuracy', return_train_score=True)\n",
        "\n",
        "# print(results['train_score'])\n",
        "print(np.round((results['train_score'].mean())*100, 2), np.round((results['train_score'].std())*100, 2))\n",
        "\n",
        "# print(results['test_score'])\n",
        "print(np.round((results['test_score'].mean())*100, 2), np.round((results['test_score'].std())*100, 2))\n",
        "\n",
        "TFIDF.fit_transform(X)\n",
        "len(TFIDF.vocabulary_)  # no. of features AFTER applying the stopwords"
      ],
      "metadata": {
        "id": "wm4IYbEiBMAt"
      },
      "execution_count": null,
      "outputs": []
    },
    {
      "cell_type": "code",
      "source": [
        "# 8. Dimesionality Reduction"
      ],
      "metadata": {
        "id": "bE97XG50BUKo"
      },
      "execution_count": null,
      "outputs": []
    },
    {
      "cell_type": "code",
      "source": [
        "from sklearn.decomposition import TruncatedSVD\n",
        "\n",
        "X = data['cleaned_reviews_w/o_SW']\n",
        "y = data['label']\n",
        "\n",
        "TFIDF = TfidfVectorizer()  # will originally have 15955 features\n",
        "SVD = TruncatedSVD(n_components=1000)  # reduce it to 1000 PCs\n",
        "\n",
        "LR1 = LogisticRegression(class_weight='balanced', solver='liblinear', penalty='l1', C=0.4)\n",
        "CV_pipe = Pipeline([('TFIDF', TFIDF), ('SVD', SVD), ('LR', LR1)] )\n",
        "results = cross_validate(CV_pipe, X, y, cv=kfold, scoring='accuracy', return_train_score=True)\n",
        "\n",
        "# print(results['train_score'])\n",
        "print(np.round((results['train_score'].mean())*100, 2), np.round((results['train_score'].std())*100, 2))\n",
        "\n",
        "# print(results['test_score'])\n",
        "print(np.round((results['test_score'].mean())*100, 2), np.round((results['test_score'].std())*100, 2))\n",
        "\n",
        "TFIDF.fit_transform(X)\n",
        "len(TFIDF.vocabulary_)"
      ],
      "metadata": {
        "id": "VIuda0nHBeNH"
      },
      "execution_count": null,
      "outputs": []
    },
    {
      "cell_type": "code",
      "source": [
        "CV_pipe.named_steps"
      ],
      "metadata": {
        "id": "kf7AsNU8Bg10"
      },
      "execution_count": null,
      "outputs": []
    },
    {
      "cell_type": "code",
      "source": [
        "#  9. N-Gram Models"
      ],
      "metadata": {
        "id": "VmJBCN-QBjBN"
      },
      "execution_count": null,
      "outputs": []
    },
    {
      "cell_type": "code",
      "source": [
        "# Unigrams + Bigrams\n",
        "X = data['cleaned_reviews_w/o_SW']\n",
        "y = data['label']\n",
        "\n",
        "# we want to include only those words in the vocab which have min df of 5,\n",
        "# means select only those words which occur ATLEAST in 5 documents!!\n",
        "# AND SELECT the TOP 1000 FEATURES ONLY to build the model\n",
        "CV = CountVectorizer(stop_words=final_stopwords,  ngram_range=(1, 2), min_df=5)\n",
        "\n",
        "LR1 = LogisticRegression(class_weight='balanced', solver='liblinear', penalty='l1', C=0.4)\n",
        "CV_pipe = Pipeline([('CV', CV) , ('LR', LR1)] )\n",
        "results = cross_validate(CV_pipe, X, y, cv=kfold, scoring='accuracy', return_train_score=True)\n",
        "\n",
        "# print(results['train_score'])\n",
        "print(np.round((results['train_score'].mean())*100, 2), np.round((results['train_score'].std())*100, 2))\n",
        "\n",
        "# print(results['test_score'])\n",
        "print(np.round((results['test_score'].mean())*100, 2), np.round((results['test_score'].std())*100, 2))\n",
        "\n",
        "CV.fit_transform(X)\n",
        "len(CV.vocabulary_)  # no. of features AFTER applying the stopwords"
      ],
      "metadata": {
        "id": "LlWxoD9cBmBE"
      },
      "execution_count": null,
      "outputs": []
    },
    {
      "cell_type": "code",
      "source": [
        "CV_pipe.named_steps"
      ],
      "metadata": {
        "id": "RU0-7FbfBqYh"
      },
      "execution_count": null,
      "outputs": []
    },
    {
      "cell_type": "code",
      "source": [
        "pip install --upgrade joblib==1.1.0"
      ],
      "metadata": {
        "id": "KPL3K5KlByTS"
      },
      "execution_count": null,
      "outputs": []
    },
    {
      "cell_type": "code",
      "source": [
        "import joblib\n",
        "joblib.__version__"
      ],
      "metadata": {
        "id": "m0sKqUPpBtLE"
      },
      "execution_count": null,
      "outputs": []
    },
    {
      "cell_type": "code",
      "source": [
        "!pip install mglearn\n",
        "import mglearn"
      ],
      "metadata": {
        "id": "wk29xkQeBv8w"
      },
      "execution_count": null,
      "outputs": []
    },
    {
      "cell_type": "code",
      "source": [
        "# Most important features when using unigrams, bigrams, and trigrams with tf-idf rescaling\n",
        "\n",
        "# extract feature names and coefficients for Unigram Model\n",
        "# CV = CV_pipe.named_steps['CV']\n",
        "feature_names = np.array(CV.get_feature_names())\n",
        "# LR = CV_pipe.named_steps['LR']\n",
        "\n",
        "\n",
        "LR1.fit(CV.fit_transform(X), y)\n",
        "coef = LR1.coef_\n",
        "mglearn.tools.visualize_coefficients(coef, feature_names, n_top_features=25)"
      ],
      "metadata": {
        "id": "95bdZttsB23m"
      },
      "execution_count": null,
      "outputs": []
    },
    {
      "cell_type": "code",
      "source": [
        "\n",
        "len(coef.ravel()), len(feature_names)"
      ],
      "metadata": {
        "id": "TvZaRcHvB667"
      },
      "execution_count": null,
      "outputs": []
    },
    {
      "cell_type": "code",
      "source": [
        "# Visualizing only the trigrams\n",
        "# find 2-gram features\n",
        "mask = np.array([len(feature.split(\" \")) for feature in feature_names]) == 2\n",
        "\n",
        "LR1.fit(CV.fit_transform(X), y)\n",
        "coef = LR1.coef_\n",
        "\n",
        "# visualize only 2-gram features\n",
        "mglearn.tools.visualize_coefficients(coef.ravel()[mask], feature_names[mask], n_top_features=25)"
      ],
      "metadata": {
        "id": "cBgWGavOB7Z6"
      },
      "execution_count": null,
      "outputs": []
    },
    {
      "cell_type": "code",
      "source": [
        "\n",
        "# Unigrams + Bigrams + Trigrams\n",
        "X = data['cleaned_reviews_w/o_SW']\n",
        "y = data['label']\n",
        "\n",
        "# we want to include only those words in the vocab which have min df of 5,\n",
        "# means select only those words which occur ATLEAST in 5 documents!!\n",
        "# AND SELECT the TOP 1000 FEATURES ONLY to build the model\n",
        "CV = CountVectorizer(stop_words=final_stopwords,  ngram_range=(1, 3), min_df=5)\n",
        "\n",
        "LR1 = LogisticRegression(class_weight='balanced', solver='liblinear', penalty='l1', C=0.4)\n",
        "CV_pipe = Pipeline([('CV', CV) , ('LR', LR1)] )\n",
        "results = cross_validate(CV_pipe, X, y, cv=kfold, scoring='accuracy', return_train_score=True)\n",
        "\n",
        "# print(results['train_score'])\n",
        "print(np.round((results['train_score'].mean())*100, 2), np.round((results['train_score'].std())*100, 2))\n",
        "\n",
        "# print(results['test_score'])\n",
        "print(np.round((results['test_score'].mean())*100, 2), np.round((results['test_score'].std())*100, 2))\n",
        "\n",
        "CV.fit_transform(X)\n",
        "len(CV.vocabulary_)  # no. of features AFTER applying the stopwords"
      ],
      "metadata": {
        "id": "S5kcso8GB9z3"
      },
      "execution_count": null,
      "outputs": []
    },
    {
      "cell_type": "code",
      "source": [
        "# Visualizing only the trigrams\n",
        "# find 3-gram features\n",
        "mask = np.array([len(feature.split(\" \")) for feature in feature_names]) == 3\n",
        "feature_names = np.array(CV.get_feature_names())\n",
        "\n",
        "LR1.fit(CV.fit_transform(X), y)\n",
        "coef = LR1.coef_\n",
        "\n",
        "# visualize only 3-gram features\n",
        "mglearn.tools.visualize_coefficients(coef.ravel()[mask], feature_names[mask], n_top_features=25)"
      ],
      "metadata": {
        "id": "bEvzF9dLCAOd"
      },
      "execution_count": null,
      "outputs": []
    },
    {
      "cell_type": "code",
      "source": [
        "len(coef.ravel()), len(feature_names)"
      ],
      "metadata": {
        "id": "y6nIY-8tCFnc"
      },
      "execution_count": null,
      "outputs": []
    },
    {
      "cell_type": "code",
      "source": [
        "data.to_pickle(\"reviews_cleaned.pkl\")"
      ],
      "metadata": {
        "id": "7g0qc8HLCHt4"
      },
      "execution_count": null,
      "outputs": []
    },
    {
      "cell_type": "code",
      "source": [],
      "metadata": {
        "id": "x1Qv_lAPCMLw"
      },
      "execution_count": null,
      "outputs": []
    }
  ]
}